{
 "cells": [
  {
   "cell_type": "markdown",
   "metadata": {},
   "source": [
    "# 1. Create a 3x3x3 array with random values\n"
   ]
  },
  {
   "cell_type": "code",
   "execution_count": 2,
   "metadata": {},
   "outputs": [
    {
     "data": {
      "text/plain": [
       "array([[[0.80550451, 0.17195667, 0.82203784],\n",
       "        [0.83456984, 0.31421976, 0.95898951],\n",
       "        [0.56946121, 0.16553757, 0.36612833]],\n",
       "\n",
       "       [[0.79466274, 0.36818628, 0.32836962],\n",
       "        [0.86275319, 0.76494407, 0.94360963],\n",
       "        [0.34942891, 0.2219652 , 0.33878421]],\n",
       "\n",
       "       [[0.50056808, 0.20494916, 0.18574729],\n",
       "        [0.10625587, 0.07834969, 0.89336156],\n",
       "        [0.07359857, 0.88608049, 0.66199338]]])"
      ]
     },
     "execution_count": 2,
     "metadata": {},
     "output_type": "execute_result"
    }
   ],
   "source": [
    "import numpy as np\n",
    "e=np.random.random(((3,3,3)))\n",
    "e"
   ]
  },
  {
   "cell_type": "code",
   "execution_count": null,
   "metadata": {},
   "outputs": [],
   "source": [
    "\n"
   ]
  },
  {
   "cell_type": "markdown",
   "metadata": {},
   "source": [
    "# 2.Create a 5x5 matrix with values 1,2,3,4 just below the diagonal\n"
   ]
  },
  {
   "cell_type": "code",
   "execution_count": 8,
   "metadata": {},
   "outputs": [
    {
     "name": "stdout",
     "output_type": "stream",
     "text": [
      "[[0. 0. 0. 0. 0.]\n",
      " [1. 0. 0. 0. 0.]\n",
      " [0. 2. 0. 0. 0.]\n",
      " [0. 0. 3. 0. 0.]\n",
      " [0. 0. 0. 4. 0.]]\n"
     ]
    }
   ],
   "source": [
    "import numpy as np\n",
    "matrix = np.zeros((5, 5))\n",
    "\n",
    "for i in range(1, 5):\n",
    "    matrix[i, i-1] = i\n",
    "\n",
    "print(matrix)"
   ]
  },
  {
   "cell_type": "markdown",
   "metadata": {},
   "source": [
    "# 3.Create a 8x8 matrix and fill it with a checkerboard pattern\n"
   ]
  },
  {
   "cell_type": "code",
   "execution_count": 14,
   "metadata": {},
   "outputs": [
    {
     "name": "stdout",
     "output_type": "stream",
     "text": [
      "[[0. 1. 0. 1. 0. 1. 0. 1.]\n",
      " [1. 0. 1. 0. 1. 0. 1. 0.]\n",
      " [0. 1. 0. 1. 0. 1. 0. 1.]\n",
      " [1. 0. 1. 0. 1. 0. 1. 0.]\n",
      " [0. 1. 0. 1. 0. 1. 0. 1.]\n",
      " [1. 0. 1. 0. 1. 0. 1. 0.]\n",
      " [0. 1. 0. 1. 0. 1. 0. 1.]\n",
      " [1. 0. 1. 0. 1. 0. 1. 0.]]\n"
     ]
    }
   ],
   "source": [
    "import numpy as np\n",
    "matrix = np.zeros((8, 8))\n",
    "#matrix[1::2] = 1\n",
    "#matrix[::,1::2] = 1\n",
    "\n",
    "# Fill the matrix with a checkerboard pattern\n",
    "matrix[1::2, ::2] = 1  # Rows 2, 4, 6, 8 (0-based indexing) - Odd rows, even columns\n",
    "matrix[::2, 1::2] = 1  # Rows 1, 3, 5, 7 (0-based indexing) - Even rows, odd columns\n",
    "\n",
    "print(matrix)\n"
   ]
  },
  {
   "cell_type": "markdown",
   "metadata": {},
   "source": [
    "# 4. Normalize a 5x5 random matrix"
   ]
  },
  {
   "cell_type": "code",
   "execution_count": 15,
   "metadata": {},
   "outputs": [
    {
     "name": "stdout",
     "output_type": "stream",
     "text": [
      "Original Matrix:\n",
      "[[0.177134   0.44668744 0.51203261]\n",
      " [0.81637106 0.98120685 0.66945876]\n",
      " [0.55065369 0.24208221 0.31681319]]\n",
      "\n",
      "Normalized Matrix:\n",
      "[[0.         0.3352351  0.41650282]\n",
      " [0.79499893 1.         0.61228875]\n",
      " [0.46453464 0.08077404 0.1737146 ]]\n"
     ]
    }
   ],
   "source": [
    "import numpy as np\n",
    "random_matrix = np.random.rand(3, 3)\n",
    "\n",
    "min_value = random_matrix.min()\n",
    "max_value = random_matrix.max()\n",
    "normalized_matrix = (random_matrix - min_value) / (max_value - min_value)\n",
    "\n",
    "print(\"Original Matrix:\")\n",
    "print(random_matrix)\n",
    "print(\"\\nNormalized Matrix:\")\n",
    "print(normalized_matrix)\n"
   ]
  },
  {
   "cell_type": "markdown",
   "metadata": {},
   "source": [
    "# 5. How to find common values between two arrays?"
   ]
  },
  {
   "cell_type": "code",
   "execution_count": 16,
   "metadata": {},
   "outputs": [
    {
     "name": "stdout",
     "output_type": "stream",
     "text": [
      "[3 4 5]\n"
     ]
    }
   ],
   "source": [
    "import numpy as np\n",
    "array1 = np.array([1, 2, 3, 4, 5])\n",
    "array2 = np.array([3, 4, 5, 6, 7])\n",
    "\n",
    "common_values = np.intersect1d(array1, array2)\n",
    "\n",
    "print(common_values)"
   ]
  },
  {
   "cell_type": "markdown",
   "metadata": {},
   "source": [
    "# 6.How to get the dates of yesterday, today and tomorrow?"
   ]
  },
  {
   "cell_type": "code",
   "execution_count": 19,
   "metadata": {},
   "outputs": [
    {
     "name": "stdout",
     "output_type": "stream",
     "text": [
      "Yesterday: 2023-09-20 15:37:29.318625\n",
      "Today: 2023-09-21 15:37:29.318625\n",
      "Tomorrow: 2023-09-22 15:37:29.318625\n"
     ]
    }
   ],
   "source": [
    "import numpy as np\n",
    "from datetime import datetime, timedelta\n",
    "\n",
    "today = datetime.today()\n",
    "\n",
    "# Convert today's date to a NumPy datetime64 object\n",
    "today_np = np.datetime64(today)\n",
    "\n",
    "# Calculate the number of days to add or subtract\n",
    "one_day = np.timedelta64(1, 'D')\n",
    "\n",
    "# Calculate yesterday's and tomorrow's dates\n",
    "yesterday_np = today_np - one_day\n",
    "tomorrow_np = today_np + one_day\n",
    "\n",
    "# Convert NumPy datetime64 objects back to datetime objects\n",
    "yesterday_date = yesterday_np.astype(datetime)\n",
    "today_date = today_np.astype(datetime)\n",
    "tomorrow_date = tomorrow_np.astype(datetime)\n",
    "\n",
    "# Print the dates\n",
    "print(\"Yesterday:\", yesterday_date)\n",
    "print(\"Today:\", today_date)\n",
    "print(\"Tomorrow:\", tomorrow_date)"
   ]
  },
  {
   "cell_type": "markdown",
   "metadata": {},
   "source": [
    "# 7. Consider two random array A and B, check if they are equal"
   ]
  },
  {
   "cell_type": "code",
   "execution_count": 20,
   "metadata": {},
   "outputs": [
    {
     "name": "stdout",
     "output_type": "stream",
     "text": [
      "Arrays A and B are not equal.\n"
     ]
    }
   ],
   "source": [
    "import numpy as np\n",
    "\n",
    "shape = (3, 3)  \n",
    "A = np.random.rand(*shape) # OR, A=np.random.random((3,3))\n",
    "B = np.random.rand(*shape)\n",
    "\n",
    "are_equal = np.array_equal(A, B)\n",
    "\n",
    "if are_equal:\n",
    "    print(\"Arrays A and B are equal.\")\n",
    "else:\n",
    "    print(\"Arrays A and B are not equal.\")\n"
   ]
  },
  {
   "cell_type": "markdown",
   "metadata": {},
   "source": [
    "# 8.Create random vector of size 10 and replace the maximum value by 0"
   ]
  },
  {
   "cell_type": "code",
   "execution_count": 21,
   "metadata": {},
   "outputs": [
    {
     "name": "stdout",
     "output_type": "stream",
     "text": [
      "Random vector:\n",
      "[0.10122468 0.9886181  0.6741646  0.89091922 0.52815302 0.85049245\n",
      " 0.59527102 0.10649462 0.1941274  0.14852486]\n",
      "\n",
      "Random vector with maximum value replaced:\n",
      "[0.10122468 0.         0.6741646  0.89091922 0.52815302 0.85049245\n",
      " 0.59527102 0.10649462 0.1941274  0.14852486]\n"
     ]
    }
   ],
   "source": [
    "import numpy as np\n",
    "\n",
    "random_vector = np.random.rand(10)\n",
    "print(\"Random vector:\")\n",
    "print(random_vector)\n",
    "print()\n",
    "\n",
    "max_index = np.argmax(random_vector)\n",
    "random_vector[max_index] = 0\n",
    "\n",
    "print(\"Random vector with maximum value replaced:\")\n",
    "print(random_vector)\n"
   ]
  },
  {
   "cell_type": "markdown",
   "metadata": {},
   "source": [
    "# 9. How to print all the values of an array?"
   ]
  },
  {
   "cell_type": "code",
   "execution_count": 22,
   "metadata": {},
   "outputs": [
    {
     "name": "stdout",
     "output_type": "stream",
     "text": [
      "[1 2 3 4 5]\n"
     ]
    }
   ],
   "source": [
    "import numpy as np\n",
    "\n",
    "my_array = np.array([1, 2, 3, 4, 5])\n",
    "\n",
    "print(my_array)"
   ]
  },
  {
   "cell_type": "markdown",
   "metadata": {},
   "source": [
    "# 10.Subtract the mean of each row of a matrix"
   ]
  },
  {
   "cell_type": "code",
   "execution_count": 26,
   "metadata": {},
   "outputs": [
    {
     "name": "stdout",
     "output_type": "stream",
     "text": [
      "Mean of each row:  [2. 5. 8.]\n",
      "\n",
      "Original Matrix:\n",
      "[[1 2 3]\n",
      " [4 5 6]\n",
      " [7 8 9]]\n",
      "\n",
      "Matrix with Row Means Subtracted:\n",
      "[[-1.  0.  1.]\n",
      " [-1.  0.  1.]\n",
      " [-1.  0.  1.]]\n"
     ]
    }
   ],
   "source": [
    "import numpy as np\n",
    "\n",
    "matrix = np.array([[1, 2, 3],\n",
    "                   [4, 5, 6],\n",
    "                   [7, 8, 9]])\n",
    "\n",
    "row_means = np.mean(matrix, axis=1)\n",
    "print(\"Mean of each row: \",row_means)\n",
    "\n",
    "resultant_matrix = matrix - row_means[:, np.newaxis]\n",
    "\n",
    "print(\"\\nOriginal Matrix:\")\n",
    "print(matrix)\n",
    "print(\"\\nMatrix with Row Means Subtracted:\")\n",
    "print(resultant_matrix)"
   ]
  },
  {
   "cell_type": "markdown",
   "metadata": {},
   "source": [
    "# 11.Consider a given vector, how to add 1 to each element indexed by a second vector (be careful with repeated indices)?"
   ]
  },
  {
   "cell_type": "code",
   "execution_count": 31,
   "metadata": {},
   "outputs": [
    {
     "name": "stdout",
     "output_type": "stream",
     "text": [
      "Result Vector before adding 1:\n",
      " [0 0 0 0 0]\n",
      "Given Vector: [1 2 3 4 5]\n",
      "Result Vector: [1 0 2 0 1]\n"
     ]
    }
   ],
   "source": [
    "import numpy as np\n",
    "\n",
    "given_vector = np.array([1, 2, 3, 4, 5])\n",
    "\n",
    "indices_vector = np.array([0, 2, 2, 4])\n",
    "\n",
    "result_vector = np.zeros_like(given_vector)\n",
    "print(\"Result Vector before adding 1:\\n\", result_vector)\n",
    "\n",
    "for index in indices_vector:\n",
    "    result_vector[index] += 1\n",
    "\n",
    "print(\"Given Vector:\", given_vector)\n",
    "print(\"Result Vector:\", result_vector) # at index 2 adding 1 is two times....see carefully\n"
   ]
  },
  {
   "cell_type": "markdown",
   "metadata": {},
   "source": [
    "# 12.How to get the diagonal of a dot product?"
   ]
  },
  {
   "cell_type": "code",
   "execution_count": 33,
   "metadata": {},
   "outputs": [
    {
     "name": "stdout",
     "output_type": "stream",
     "text": [
      "Matrix A:\n",
      "[[1 2]\n",
      " [3 4]]\n",
      "\n",
      "Matrix B:\n",
      "[[5 6]\n",
      " [7 8]]\n",
      "\n",
      "Dot Product of A and B:\n",
      "[[19 22]\n",
      " [43 50]]\n",
      "\n",
      "Diagonal of the Dot Product:\n",
      "[19 50]\n"
     ]
    }
   ],
   "source": [
    "import numpy as np\n",
    "\n",
    "A = np.array([[1, 2],\n",
    "              [3, 4]])\n",
    "\n",
    "B = np.array([[5, 6],\n",
    "              [7, 8]])\n",
    "\n",
    "dot_product = np.dot(A, B)\n",
    "\n",
    "diagonal = np.diag(dot_product)\n",
    "\n",
    "print(\"Matrix A:\")\n",
    "print(A)\n",
    "print()\n",
    "print(\"Matrix B:\")\n",
    "print(B)\n",
    "print()\n",
    "print(\"Dot Product of A and B:\")\n",
    "print(dot_product)\n",
    "print()\n",
    "print(\"Diagonal of the Dot Product:\")\n",
    "print(diagonal)\n"
   ]
  },
  {
   "cell_type": "markdown",
   "metadata": {},
   "source": [
    "# 13.How to find the most frequent value in an array?"
   ]
  },
  {
   "cell_type": "code",
   "execution_count": 34,
   "metadata": {},
   "outputs": [
    {
     "name": "stdout",
     "output_type": "stream",
     "text": [
      "Array: [1 2 2 3 3 3 4 4 4 4]\n",
      "Most frequent value: 4\n"
     ]
    }
   ],
   "source": [
    "import numpy as np\n",
    "\n",
    "arr = np.array([1, 2, 2, 3, 3, 3, 4, 4, 4, 4])\n",
    "\n",
    "# Use numpy.bincount() to count occurrences of each value\n",
    "counts = np.bincount(arr)\n",
    "\n",
    "# Find the value with the highest count\n",
    "most_frequent_value = np.argmax(counts)\n",
    "\n",
    "print(\"Array:\", arr)\n",
    "print(\"Most frequent value:\", most_frequent_value)"
   ]
  },
  {
   "cell_type": "markdown",
   "metadata": {},
   "source": [
    "# 14.How to get the n largest values of an array"
   ]
  },
  {
   "cell_type": "code",
   "execution_count": 37,
   "metadata": {},
   "outputs": [
    {
     "name": "stdout",
     "output_type": "stream",
     "text": [
      "Array: [3 1 4 1 5 9 2 6 5 3 5]\n",
      "3 Largest Values: [5 6 9]\n"
     ]
    }
   ],
   "source": [
    "import numpy as np\n",
    "\n",
    "arr = np.array([3, 1, 4, 1, 5, 9, 2, 6, 5, 3, 5])\n",
    "\n",
    "n = 3\n",
    "# Use numpy.partition to partially sort the array and get the n largest values\n",
    "n_largest_values = np.partition(arr, -n)[-n:]\n",
    "\n",
    "print(\"Array:\", arr)\n",
    "print(f\"{n} Largest Values:\", n_largest_values)"
   ]
  },
  {
   "cell_type": "markdown",
   "metadata": {},
   "source": [
    "# 15.How to create a record array from a regular array?"
   ]
  },
  {
   "cell_type": "code",
   "execution_count": 38,
   "metadata": {},
   "outputs": [
    {
     "name": "stdout",
     "output_type": "stream",
     "text": [
      "[(1, 'John', 25) (2, 'Alice', 30) (3, 'Bob', 28)]\n"
     ]
    }
   ],
   "source": [
    "import numpy as np\n",
    "\n",
    "regular_array = np.array([[1, 'John', 25],\n",
    "                          [2, 'Alice', 30],\n",
    "                          [3, 'Bob', 28]])\n",
    "\n",
    "dtype = [('ID', int), ('Name', 'U10'), ('Age', int)]\n",
    "\n",
    "# Create a record array from the regular array\n",
    "record_array = np.rec.fromarrays(regular_array.T, dtype=dtype)\n",
    "\n",
    "print(record_array)"
   ]
  },
  {
   "cell_type": "markdown",
   "metadata": {},
   "source": [
    "# 16. How to swap two rows of an array?"
   ]
  },
  {
   "cell_type": "code",
   "execution_count": 41,
   "metadata": {},
   "outputs": [
    {
     "name": "stdout",
     "output_type": "stream",
     "text": [
      "Original Array:\n",
      "[[1 2 3]\n",
      " [4 5 6]\n",
      " [7 8 9]]\n",
      "\n",
      "Swapped Array:\n",
      "[[7 8 9]\n",
      " [4 5 6]\n",
      " [1 2 3]]\n"
     ]
    }
   ],
   "source": [
    "import numpy as np\n",
    "\n",
    "arr = np.array([[1, 2, 3],\n",
    "                [4, 5, 6],\n",
    "                [7, 8, 9]])\n",
    "\n",
    "# Define the indices of the rows you want to swap\n",
    "row1_index = 0\n",
    "row2_index = 2\n",
    "print(\"Original Array:\")\n",
    "print(arr)\n",
    "\n",
    "temp_row = arr[row1_index].copy()  \n",
    "arr[row1_index] = arr[row2_index]   \n",
    "arr[row2_index] = temp_row         \n",
    "\n",
    "print(\"\\nSwapped Array:\")\n",
    "print(arr)"
   ]
  },
  {
   "cell_type": "markdown",
   "metadata": {},
   "source": [
    "# 17. Write python code to reshape to the next dimension of numpy array?"
   ]
  },
  {
   "cell_type": "code",
   "execution_count": 43,
   "metadata": {},
   "outputs": [
    {
     "name": "stdout",
     "output_type": "stream",
     "text": [
      "[[11 22]\n",
      " [33 44]\n",
      " [55 66]] (3, 2) 2\n"
     ]
    }
   ],
   "source": [
    "#2d data\n",
    "from numpy import array\n",
    "data=array([[11,22],[33,44],[55,66]])\n",
    "print(data,data.shape,data.ndim)"
   ]
  },
  {
   "cell_type": "code",
   "execution_count": 44,
   "metadata": {},
   "outputs": [
    {
     "name": "stdout",
     "output_type": "stream",
     "text": [
      "[[[11]\n",
      "  [22]]\n",
      "\n",
      " [[33]\n",
      "  [44]]\n",
      "\n",
      " [[55]\n",
      "  [66]]]\n",
      "\n",
      "(3, 2, 1)\n",
      "\n",
      "3\n"
     ]
    }
   ],
   "source": [
    "# 2d to 3d\n",
    "d2=data.reshape((data.shape[0],data.shape[1],1))\n",
    "print(d2)\n",
    "print()\n",
    "print(d2.shape)\n",
    "print()\n",
    "print(d2.ndim)"
   ]
  },
  {
   "cell_type": "code",
   "execution_count": null,
   "metadata": {},
   "outputs": [],
   "source": []
  }
 ],
 "metadata": {
  "kernelspec": {
   "display_name": "Python 3",
   "language": "python",
   "name": "python3"
  },
  "language_info": {
   "codemirror_mode": {
    "name": "ipython",
    "version": 3
   },
   "file_extension": ".py",
   "mimetype": "text/x-python",
   "name": "python",
   "nbconvert_exporter": "python",
   "pygments_lexer": "ipython3",
   "version": "3.7.6"
  }
 },
 "nbformat": 4,
 "nbformat_minor": 4
}
