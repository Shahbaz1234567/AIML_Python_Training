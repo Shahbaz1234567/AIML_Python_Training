{
 "cells": [
  {
   "cell_type": "code",
   "execution_count": 1,
   "metadata": {},
   "outputs": [],
   "source": [
    "import numpy as np"
   ]
  },
  {
   "cell_type": "code",
   "execution_count": 4,
   "metadata": {},
   "outputs": [],
   "source": [
    "#Dataset\n",
    "\n",
    "country=np.array(['GBR', 'Chine', 'RUS', 'US', 'KOR', 'JPN', 'GER'])\n",
    "gold=np.array([29, 38, 24, 46, 13,7,11]) \n",
    "silver=np.array([17,28,25,28,8,14,11]) \n",
    "Bronze=np.array([19,22,32,29,7,17,14])"
   ]
  },
  {
   "cell_type": "markdown",
   "metadata": {},
   "source": [
    "# 1. find country index with maximum gold"
   ]
  },
  {
   "cell_type": "code",
   "execution_count": 10,
   "metadata": {},
   "outputs": [
    {
     "data": {
      "text/plain": [
       "3"
      ]
     },
     "execution_count": 10,
     "metadata": {},
     "output_type": "execute_result"
    }
   ],
   "source": [
    "index_with_max_gold=gold.argmax()\n",
    "index_with_max_gold"
   ]
  },
  {
   "cell_type": "markdown",
   "metadata": {},
   "source": [
    "# 2. Print country with maximum gold"
   ]
  },
  {
   "cell_type": "code",
   "execution_count": 11,
   "metadata": {},
   "outputs": [
    {
     "data": {
      "text/plain": [
       "'US'"
      ]
     },
     "execution_count": 11,
     "metadata": {},
     "output_type": "execute_result"
    }
   ],
   "source": [
    "country_with_max_gold=country[max_gold]\n",
    "country_with_max_gold"
   ]
  },
  {
   "cell_type": "markdown",
   "metadata": {},
   "source": [
    "# 3. Find country with more than 20 gold medals"
   ]
  },
  {
   "cell_type": "code",
   "execution_count": 12,
   "metadata": {},
   "outputs": [
    {
     "data": {
      "text/plain": [
       "array(['GBR', 'Chine', 'RUS', 'US'], dtype='<U5')"
      ]
     },
     "execution_count": 12,
     "metadata": {},
     "output_type": "execute_result"
    }
   ],
   "source": [
    "res=country[gold>20]\n",
    "res"
   ]
  },
  {
   "cell_type": "markdown",
   "metadata": {},
   "source": [
    "# 4. Evaluate the dataset and print the medal:\n",
    "     1. print each country name with number of gold medals\n",
    "     2. print each country name with number of medals"
   ]
  },
  {
   "cell_type": "code",
   "execution_count": 15,
   "metadata": {},
   "outputs": [
    {
     "name": "stdout",
     "output_type": "stream",
     "text": [
      "Country-wise Gold Medals:\n",
      "GBR: 29 gold medals\n",
      "Chine: 38 gold medals\n",
      "RUS: 24 gold medals\n",
      "US: 46 gold medals\n",
      "KOR: 13 gold medals\n",
      "JPN: 7 gold medals\n",
      "GER: 11 gold medals\n",
      "\n",
      "\n",
      "Country-wise Total Medals:\n",
      "GBR: 65 total medals\n",
      "Chine: 88 total medals\n",
      "RUS: 81 total medals\n",
      "US: 103 total medals\n",
      "KOR: 28 total medals\n",
      "JPN: 38 total medals\n",
      "GER: 36 total medals\n"
     ]
    }
   ],
   "source": [
    "import numpy as np\n",
    "\n",
    "# 1. Print each country name with the number of gold medals\n",
    "print(\"Country-wise Gold Medals:\")\n",
    "for i in range(len(country)):\n",
    "    print(f\"{country[i]}: {gold[i]} gold medals\")\n",
    "print()\n",
    "# 2. Print each country name with the total number of medals\n",
    "total_medals = gold + silver + Bronze\n",
    "print(\"\\nCountry-wise Total Medals:\")\n",
    "for i in range(len(country)):\n",
    "    print(f\"{country[i]}: {total_medals[i]} total medals\")\n"
   ]
  },
  {
   "cell_type": "code",
   "execution_count": null,
   "metadata": {},
   "outputs": [],
   "source": []
  }
 ],
 "metadata": {
  "kernelspec": {
   "display_name": "Python 3",
   "language": "python",
   "name": "python3"
  },
  "language_info": {
   "codemirror_mode": {
    "name": "ipython",
    "version": 3
   },
   "file_extension": ".py",
   "mimetype": "text/x-python",
   "name": "python",
   "nbconvert_exporter": "python",
   "pygments_lexer": "ipython3",
   "version": "3.7.6"
  }
 },
 "nbformat": 4,
 "nbformat_minor": 4
}
