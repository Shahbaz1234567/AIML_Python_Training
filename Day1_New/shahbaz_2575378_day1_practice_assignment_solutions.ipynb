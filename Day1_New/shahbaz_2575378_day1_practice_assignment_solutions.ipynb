{
 "cells": [
  {
   "cell_type": "markdown",
   "metadata": {},
   "source": [
    "# 1. Manipulating using a list"
   ]
  },
  {
   "cell_type": "code",
   "execution_count": 22,
   "metadata": {},
   "outputs": [
    {
     "data": {
      "text/plain": [
       "[2, 6, 8]"
      ]
     },
     "execution_count": 22,
     "metadata": {},
     "output_type": "execute_result"
    }
   ],
   "source": [
    "list1=[2,6,8]\n",
    "list1"
   ]
  },
  {
   "cell_type": "code",
   "execution_count": 23,
   "metadata": {},
   "outputs": [
    {
     "data": {
      "text/plain": [
       "[2, 6, 8, 4, 3, 5, 7]"
      ]
     },
     "execution_count": 23,
     "metadata": {},
     "output_type": "execute_result"
    }
   ],
   "source": [
    "#i)To add new elements to the end of list\n",
    "list1.append(4)\n",
    "list1.extend([3,5,7])# add muliple elements\n",
    "list1"
   ]
  },
  {
   "cell_type": "code",
   "execution_count": 24,
   "metadata": {},
   "outputs": [
    {
     "data": {
      "text/plain": [
       "[7, 5, 3, 4, 8, 6, 2]"
      ]
     },
     "execution_count": 24,
     "metadata": {},
     "output_type": "execute_result"
    }
   ],
   "source": [
    "#ii) To reverse the list\n",
    "list1.reverse()\n",
    "list1"
   ]
  },
  {
   "cell_type": "code",
   "execution_count": 25,
   "metadata": {},
   "outputs": [
    {
     "data": {
      "text/plain": [
       "[7, 5, 3, 4, 8, 6, 2, 7, 5, 3, 4, 8, 6, 2, 7, 5, 3, 4, 8, 6, 2]"
      ]
     },
     "execution_count": 25,
     "metadata": {},
     "output_type": "execute_result"
    }
   ],
   "source": [
    "#iii) To display the same list of elemets in multiple times\n",
    "list1*3"
   ]
  },
  {
   "cell_type": "code",
   "execution_count": 26,
   "metadata": {},
   "outputs": [
    {
     "data": {
      "text/plain": [
       "[7, 5, 3, 4, 8, 6, 2, 120, 20, 36]"
      ]
     },
     "execution_count": 26,
     "metadata": {},
     "output_type": "execute_result"
    }
   ],
   "source": [
    "#iv) To concatenate two list\n",
    "lst=[120,20,36]\n",
    "#list.append(lst)\n",
    "#list.pop()\n",
    "list1=list1+lst\n",
    "list1"
   ]
  },
  {
   "cell_type": "code",
   "execution_count": 27,
   "metadata": {},
   "outputs": [
    {
     "data": {
      "text/plain": [
       "[2, 3, 4, 5, 6, 7, 8, 20, 36, 120]"
      ]
     },
     "execution_count": 27,
     "metadata": {},
     "output_type": "execute_result"
    }
   ],
   "source": [
    "#v) sort the elements in the list in asc order\n",
    "list1.sort()\n",
    "list1"
   ]
  },
  {
   "cell_type": "markdown",
   "metadata": {},
   "source": [
    "# 2. Write a python program to do in the tuples."
   ]
  },
  {
   "cell_type": "code",
   "execution_count": 1,
   "metadata": {},
   "outputs": [
    {
     "data": {
      "text/plain": [
       "['Patna', 'Gaya', 'London']"
      ]
     },
     "execution_count": 1,
     "metadata": {},
     "output_type": "execute_result"
    }
   ],
   "source": [
    "#i) Manipulating the tuples\n",
    "city=(\"Patna\",\"Gaya\",\"London\")\n",
    "temp=list(city)\n",
    "temp"
   ]
  },
  {
   "cell_type": "code",
   "execution_count": 2,
   "metadata": {},
   "outputs": [
    {
     "data": {
      "text/plain": [
       "'London'"
      ]
     },
     "execution_count": 2,
     "metadata": {},
     "output_type": "execute_result"
    }
   ],
   "source": [
    "temp.pop()"
   ]
  },
  {
   "cell_type": "code",
   "execution_count": 3,
   "metadata": {},
   "outputs": [],
   "source": [
    "temp.append(\"Dhaka\")"
   ]
  },
  {
   "cell_type": "code",
   "execution_count": 4,
   "metadata": {},
   "outputs": [],
   "source": [
    "city=tuple(temp)"
   ]
  },
  {
   "cell_type": "code",
   "execution_count": 5,
   "metadata": {},
   "outputs": [
    {
     "data": {
      "text/plain": [
       "('Patna', 'Gaya', 'Dhaka')"
      ]
     },
     "execution_count": 5,
     "metadata": {},
     "output_type": "execute_result"
    }
   ],
   "source": [
    "#ii) To add new new elemnt to the end in the tuple\n",
    "city  # added Dhaka to tuple at the end"
   ]
  },
  {
   "cell_type": "code",
   "execution_count": 7,
   "metadata": {},
   "outputs": [
    {
     "data": {
      "text/plain": [
       "['Dhaka', 'Gaya', 'Patna']"
      ]
     },
     "execution_count": 7,
     "metadata": {},
     "output_type": "execute_result"
    }
   ],
   "source": [
    "#iii) To reverse in the list\n",
    "rev=list(city)\n",
    "rev.reverse()\n",
    "rev"
   ]
  },
  {
   "cell_type": "code",
   "execution_count": 8,
   "metadata": {},
   "outputs": [
    {
     "data": {
      "text/plain": [
       "('Patna', 'Gaya', 'Dhaka', 'Patna', 'Gaya', 'Dhaka')"
      ]
     },
     "execution_count": 8,
     "metadata": {},
     "output_type": "execute_result"
    }
   ],
   "source": [
    "#iv) To dispaly same tuple multiple times\n",
    "city*2"
   ]
  },
  {
   "cell_type": "code",
   "execution_count": 1,
   "metadata": {},
   "outputs": [
    {
     "name": "stdout",
     "output_type": "stream",
     "text": [
      "('Pakistan', 'Afghanistan', 'Bangladesh', 'ShriLanka', 'Vietnam', 'India', 'China')\n"
     ]
    }
   ],
   "source": [
    "#v) To concatenate to tuples\n",
    "\n",
    "countries = (\"Pakistan\", \"Afghanistan\", \"Bangladesh\", \"ShriLanka\")\n",
    "countries2 = (\"Vietnam\", \"India\", \"China\")\n",
    "southEastAsia = countries + countries2\n",
    "print(southEastAsia)"
   ]
  },
  {
   "cell_type": "code",
   "execution_count": 10,
   "metadata": {},
   "outputs": [
    {
     "data": {
      "text/plain": [
       "['Dhaka', 'Gaya', 'Patna']"
      ]
     },
     "execution_count": 10,
     "metadata": {},
     "output_type": "execute_result"
    }
   ],
   "source": [
    "#vi) To sort the list in asc order\n",
    "rev.sort()\n",
    "rev"
   ]
  },
  {
   "cell_type": "markdown",
   "metadata": {},
   "source": [
    "# 3. Write python program to implement the following using list"
   ]
  },
  {
   "cell_type": "code",
   "execution_count": 2,
   "metadata": {},
   "outputs": [
    {
     "data": {
      "text/plain": [
       "[1, 2, 3, 4, 5, 6, 7, 8, 9, 10]"
      ]
     },
     "execution_count": 2,
     "metadata": {},
     "output_type": "execute_result"
    }
   ],
   "source": [
    "#i) create a list with integers(minimum 10 numbers)\n",
    "a=[1,2,3,4,5,6,7,8,9,10]\n",
    "a"
   ]
  },
  {
   "cell_type": "code",
   "execution_count": 5,
   "metadata": {},
   "outputs": [
    {
     "data": {
      "text/plain": [
       "10"
      ]
     },
     "execution_count": 5,
     "metadata": {},
     "output_type": "execute_result"
    }
   ],
   "source": [
    "#ii) To display last number in list\n",
    "a[-1]"
   ]
  },
  {
   "cell_type": "code",
   "execution_count": 6,
   "metadata": {},
   "outputs": [
    {
     "data": {
      "text/plain": [
       "[1, 2, 3, 4]"
      ]
     },
     "execution_count": 6,
     "metadata": {},
     "output_type": "execute_result"
    }
   ],
   "source": [
    "#iii) command to display values from the list[0:4]\n",
    "a[0:4]"
   ]
  },
  {
   "cell_type": "code",
   "execution_count": 7,
   "metadata": {},
   "outputs": [
    {
     "data": {
      "text/plain": [
       "[3, 4, 5, 6, 7, 8, 9, 10]"
      ]
     },
     "execution_count": 7,
     "metadata": {},
     "output_type": "execute_result"
    }
   ],
   "source": [
    "#iv) command to display values from the list[2:]\n",
    "a[2:]"
   ]
  },
  {
   "cell_type": "code",
   "execution_count": 8,
   "metadata": {},
   "outputs": [
    {
     "data": {
      "text/plain": [
       "[1, 2, 3, 4, 5, 6]"
      ]
     },
     "execution_count": 8,
     "metadata": {},
     "output_type": "execute_result"
    }
   ],
   "source": [
    "#v) command to display values from the list[:6]\n",
    "a[:6]\n"
   ]
  },
  {
   "cell_type": "markdown",
   "metadata": {},
   "source": [
    "# 4. write python program: tuple1=(10,50,20,40,30)"
   ]
  },
  {
   "cell_type": "code",
   "execution_count": 11,
   "metadata": {},
   "outputs": [
    {
     "data": {
      "text/plain": [
       "(10, 50)"
      ]
     },
     "execution_count": 11,
     "metadata": {},
     "output_type": "execute_result"
    }
   ],
   "source": [
    "tuple1=(10,50,20,40,30)\n",
    "#i) To display the elements 10 and 50 from tuple1\n",
    "tuple1[0],tuple1[1]"
   ]
  },
  {
   "cell_type": "code",
   "execution_count": 12,
   "metadata": {},
   "outputs": [
    {
     "data": {
      "text/plain": [
       "5"
      ]
     },
     "execution_count": 12,
     "metadata": {},
     "output_type": "execute_result"
    }
   ],
   "source": [
    "#ii) To display length of tuple\n",
    "len(tuple1)"
   ]
  },
  {
   "cell_type": "code",
   "execution_count": 17,
   "metadata": {},
   "outputs": [
    {
     "name": "stdout",
     "output_type": "stream",
     "text": [
      "10\n"
     ]
    }
   ],
   "source": [
    "#iii) To find minimum element from tuple1\n",
    "'''import sys\n",
    "minm=sys.maxint'''\n",
    "minm=1000\n",
    "for i in range(0,len(tuple1)):\n",
    "    if tuple1[i]<minm:\n",
    "        minm=tuple1[i]\n",
    "print(minm)        "
   ]
  },
  {
   "cell_type": "code",
   "execution_count": 19,
   "metadata": {},
   "outputs": [
    {
     "data": {
      "text/plain": [
       "(10, 50, 20, 40, 30)"
      ]
     },
     "execution_count": 19,
     "metadata": {},
     "output_type": "execute_result"
    }
   ],
   "source": [
    "#iv) To add elements into tuple1\n",
    "temp=list(tuple1)\n",
    "temp.append(23)\n",
    "tuple1=tuple(tuple1)\n",
    "tuple1"
   ]
  },
  {
   "cell_type": "code",
   "execution_count": 20,
   "metadata": {},
   "outputs": [
    {
     "data": {
      "text/plain": [
       "(10, 50, 20, 40, 30, 10, 50, 20, 40, 30)"
      ]
     },
     "execution_count": 20,
     "metadata": {},
     "output_type": "execute_result"
    }
   ],
   "source": [
    "#v) to display same elements in multiple times\n",
    "tuple1*2"
   ]
  },
  {
   "cell_type": "markdown",
   "metadata": {},
   "source": [
    "# 5. write a python program:"
   ]
  },
  {
   "cell_type": "code",
   "execution_count": 29,
   "metadata": {},
   "outputs": [
    {
     "data": {
      "text/plain": [
       "3"
      ]
     },
     "execution_count": 29,
     "metadata": {},
     "output_type": "execute_result"
    }
   ],
   "source": [
    "str=[\"Geeks\",\"for\",\"geeks\"]\n",
    "#i) To calculate the length of string\n",
    "len(str)"
   ]
  },
  {
   "cell_type": "code",
   "execution_count": 30,
   "metadata": {},
   "outputs": [
    {
     "data": {
      "text/plain": [
       "['geeks', 'for', 'Geeks']"
      ]
     },
     "execution_count": 30,
     "metadata": {},
     "output_type": "execute_result"
    }
   ],
   "source": [
    "#ii) To reverse word in string\n",
    "str.reverse()\n",
    "str"
   ]
  },
  {
   "cell_type": "code",
   "execution_count": 32,
   "metadata": {},
   "outputs": [
    {
     "name": "stdout",
     "output_type": "stream",
     "text": [
      "['geeks', 'for', 'Geeks', 'geeks', 'for', 'Geeks']\n"
     ]
    }
   ],
   "source": [
    "#iii)To display same string into multiple times\n",
    "print(str*2)"
   ]
  },
  {
   "cell_type": "code",
   "execution_count": 26,
   "metadata": {},
   "outputs": [
    {
     "data": {
      "text/plain": [
       "['geeks', 'for', 'Geeks', 'coding', 'paltform']"
      ]
     },
     "execution_count": 26,
     "metadata": {},
     "output_type": "execute_result"
    }
   ],
   "source": [
    "#iv) To concatenate two strings\n",
    "str2=[\"coding\",\"paltform\"]\n",
    "s=str+str2\n",
    "s"
   ]
  },
  {
   "cell_type": "code",
   "execution_count": 34,
   "metadata": {},
   "outputs": [
    {
     "data": {
      "text/plain": [
       "'India'"
      ]
     },
     "execution_count": 34,
     "metadata": {},
     "output_type": "execute_result"
    }
   ],
   "source": [
    "#v) str1=\"South India\" using string slicing to display \"India\"\n",
    "str1=\"South India\"\n",
    "str1[6:]"
   ]
  },
  {
   "cell_type": "markdown",
   "metadata": {},
   "source": [
    "# 6. Perform following:"
   ]
  },
  {
   "cell_type": "code",
   "execution_count": 35,
   "metadata": {},
   "outputs": [
    {
     "data": {
      "text/plain": [
       "{1: 'Geeks', 2: 'For', 3: 'Geeks'}"
      ]
     },
     "execution_count": 35,
     "metadata": {},
     "output_type": "execute_result"
    }
   ],
   "source": [
    "#i) creating a dictionary.\n",
    "dict1 = {1: 'Geeks', 2: 'For', 3: 'Geeks'}\n",
    "dict1"
   ]
  },
  {
   "cell_type": "code",
   "execution_count": 39,
   "metadata": {},
   "outputs": [
    {
     "data": {
      "text/plain": [
       "('Geeks', dict_values(['Geeks', 'For', 'Geeks']))"
      ]
     },
     "execution_count": 39,
     "metadata": {},
     "output_type": "execute_result"
    }
   ],
   "source": [
    "#ii) Accessing the values and keys in the dictionary\n",
    "dict1[1],  dict1.values()"
   ]
  },
  {
   "cell_type": "code",
   "execution_count": 40,
   "metadata": {},
   "outputs": [
    {
     "data": {
      "text/plain": [
       "{1: 'Geeks', 2: 'For', 3: 'Geeks', 5: 'coding', 6: 'doing'}"
      ]
     },
     "execution_count": 40,
     "metadata": {},
     "output_type": "execute_result"
    }
   ],
   "source": [
    "#iii)updating the dictionary using funtion\n",
    "dict2={5:'coding',6:'doing'}\n",
    "dict1.update(dict2)\n",
    "dict1"
   ]
  },
  {
   "cell_type": "code",
   "execution_count": 44,
   "metadata": {},
   "outputs": [
    {
     "data": {
      "text/plain": [
       "{}"
      ]
     },
     "execution_count": 44,
     "metadata": {},
     "output_type": "execute_result"
    }
   ],
   "source": [
    "#iv) clear and delete the dictionary values\n",
    "dict1.pop(3)\n",
    "dict1.clear()\n",
    "dict1"
   ]
  },
  {
   "cell_type": "markdown",
   "metadata": {},
   "source": [
    "# 7. python program to insert a number to any position in a list"
   ]
  },
  {
   "cell_type": "code",
   "execution_count": 45,
   "metadata": {},
   "outputs": [
    {
     "data": {
      "text/plain": [
       "[3, 5, 7, 9]"
      ]
     },
     "execution_count": 45,
     "metadata": {},
     "output_type": "execute_result"
    }
   ],
   "source": [
    "lst=[5,7,9]\n",
    "lst.insert(0,3)\n",
    "lst"
   ]
  },
  {
   "cell_type": "markdown",
   "metadata": {},
   "source": [
    "# 8. python program to delete an element in a list by index"
   ]
  },
  {
   "cell_type": "code",
   "execution_count": 46,
   "metadata": {},
   "outputs": [
    {
     "data": {
      "text/plain": [
       "9"
      ]
     },
     "execution_count": 46,
     "metadata": {},
     "output_type": "execute_result"
    }
   ],
   "source": [
    "lst=[5,7,9,10]\n",
    "lst.pop(2)\n",
    "\n"
   ]
  },
  {
   "cell_type": "code",
   "execution_count": 47,
   "metadata": {},
   "outputs": [
    {
     "data": {
      "text/plain": [
       "[5, 7, 10]"
      ]
     },
     "execution_count": 47,
     "metadata": {},
     "output_type": "execute_result"
    }
   ],
   "source": [
    "lst"
   ]
  },
  {
   "cell_type": "markdown",
   "metadata": {},
   "source": [
    "# 9. write a program to dispaly a number from 1to 100"
   ]
  },
  {
   "cell_type": "code",
   "execution_count": 57,
   "metadata": {},
   "outputs": [
    {
     "name": "stdout",
     "output_type": "stream",
     "text": [
      "1\n",
      "2\n",
      "3\n",
      "4\n",
      "5\n",
      "6\n",
      "7\n",
      "8\n",
      "9\n",
      "10\n",
      "11\n",
      "12\n",
      "13\n",
      "14\n",
      "15\n",
      "16\n",
      "17\n",
      "18\n",
      "19\n",
      "20\n",
      "21\n",
      "22\n",
      "23\n",
      "24\n",
      "25\n",
      "26\n",
      "27\n",
      "28\n",
      "29\n",
      "30\n",
      "31\n",
      "32\n",
      "33\n",
      "34\n",
      "35\n",
      "36\n",
      "37\n",
      "38\n",
      "39\n",
      "40\n",
      "41\n",
      "42\n",
      "43\n",
      "44\n",
      "45\n",
      "46\n",
      "47\n",
      "48\n",
      "49\n",
      "50\n",
      "51\n",
      "52\n",
      "53\n",
      "54\n",
      "55\n",
      "56\n",
      "57\n",
      "58\n",
      "59\n",
      "60\n",
      "61\n",
      "62\n",
      "63\n",
      "64\n",
      "65\n",
      "66\n",
      "67\n",
      "68\n",
      "69\n",
      "70\n",
      "71\n",
      "72\n",
      "73\n",
      "74\n",
      "75\n",
      "76\n",
      "77\n",
      "78\n",
      "79\n",
      "80\n",
      "81\n",
      "82\n",
      "83\n",
      "84\n",
      "85\n",
      "86\n",
      "87\n",
      "88\n",
      "89\n",
      "90\n",
      "91\n",
      "92\n",
      "93\n",
      "94\n",
      "95\n",
      "96\n",
      "97\n",
      "98\n",
      "99\n",
      "100\n"
     ]
    }
   ],
   "source": [
    "list=[]\n",
    "for i in range(1,101):\n",
    "    print(i)"
   ]
  },
  {
   "cell_type": "markdown",
   "metadata": {},
   "source": [
    "# 10. write a python program to find sum of all items in a tuple"
   ]
  },
  {
   "cell_type": "code",
   "execution_count": 61,
   "metadata": {},
   "outputs": [
    {
     "name": "stdout",
     "output_type": "stream",
     "text": [
      "23\n"
     ]
    }
   ],
   "source": [
    "tuple11=(5,6,9,3)\n",
    "sum=0;\n",
    "for i in range(0,len(tuple11)):\n",
    "    sum+=tuple11[i]\n",
    "print(sum)    "
   ]
  },
  {
   "cell_type": "markdown",
   "metadata": {},
   "source": [
    "# 11. create a dictionary containing three lambda functions square,cube and squareroot"
   ]
  },
  {
   "cell_type": "code",
   "execution_count": null,
   "metadata": {},
   "outputs": [],
   "source": []
  },
  {
   "cell_type": "code",
   "execution_count": 1,
   "metadata": {},
   "outputs": [
    {
     "name": "stdout",
     "output_type": "stream",
     "text": [
      "Enter a number: 5\n",
      "Square of 5.0 is 25.0\n",
      "Cube of 5.0 is 125.0\n",
      "SquareRoot of 5.0 is 2.23606797749979\n",
      "Sum of the outputs: 152.2360679774998\n"
     ]
    }
   ],
   "source": [
    "'''\n",
    "11. Create a dictionary containing three lambda functions square, cube and square root.\n",
    "\n",
    "i) E.g. dict = {'Square': function for squaring, 'Cube': function for cube, 'Squareroot': function for square root)\n",
    "\n",
    "ii) Pass the values (input from the user) to the functions in the dictionary respectively.\n",
    "\n",
    "iii) Then add the outputs of each function and print it.\n",
    "\n",
    "'''\n",
    "# Define the dictionary with lambda functions\n",
    "my_dict = {\n",
    "    'Square': lambda x: x ** 2,\n",
    "    'Cube': lambda x: x ** 3,\n",
    "    'SquareRoot': lambda x: x ** 0.5\n",
    "}\n",
    "\n",
    "\n",
    "num = float(input(\"Enter a number: \"))\n",
    "\n",
    "\n",
    "total_sum = 0\n",
    "\n",
    "for key, func in my_dict.items():\n",
    "    output = func(num)\n",
    "    print(f\"{key} of {num} is {output}\")\n",
    "    total_sum += output\n",
    "\n",
    "print(f\"Sum of the outputs: {total_sum}\")\n",
    "\n"
   ]
  },
  {
   "cell_type": "code",
   "execution_count": 2,
   "metadata": {},
   "outputs": [
    {
     "name": "stdout",
     "output_type": "stream",
     "text": [
      "Words with the second character in uppercase:\n",
      "ARe\n"
     ]
    }
   ],
   "source": [
    "''' 12. A list of words is given. Find the words from the list that have their second character in uppercase.\n",
    "\n",
    "            Is = ['hello', 'Dear', 'how', 'ARe', 'You']\n",
    "\n",
    "'''\n",
    "\n",
    "ls = ['hello', 'Dear', 'how', 'ARe', 'You']\n",
    "\n",
    "\n",
    "result_words = []\n",
    "\n",
    "\n",
    "for word in ls:\n",
    "    if len(word) >= 2 and word[1].isupper():\n",
    "        result_words.append(word)\n",
    "\n",
    "print(\"Words with the second character in uppercase:\")\n",
    "for word in result_words:\n",
    "    print(word)\n"
   ]
  },
  {
   "cell_type": "code",
   "execution_count": null,
   "metadata": {},
   "outputs": [],
   "source": [
    "'''13. A dictionary of names and their weights on earth is given. Find how much they will weight on the moon. (Use map and lambda functions) Formula: wMoon (wEarth GMoon) / GEarth\n",
    "\n",
    "            1) #Weight of people in kg\n",
    "\n",
    "            WeightOnEarth = ('John':45, 'Shelly':65, 'Marry':35)\n",
    "\n",
    "            ii) # Gravitational force on the Moon: 1.622 m/s2\n",
    "\n",
    "            GMoon = 1.622\n",
    "\n",
    "            # Gravitational force on the Earth: 9.81 m/s2\n",
    "\n",
    "            GEarth = 9.81\n",
    "\n",
    "'''\n",
    "\n",
    "# Define the dictionary with names and their weights on Earth\n",
    "WeightOnEarth = {'John': 45, 'Shelly': 65, 'Marry': 35}\n",
    "\n",
    "# Gravitational forces\n",
    "GMoon = 1.622\n",
    "GEarth = 9.81\n",
    "\n",
    "# Define a lambda function to calculate the weight on the Moon\n",
    "calculate_weight_on_moon = lambda weight: weight * GMoon / GEarth\n",
    "\n",
    "# Use map to calculate the weights on the Moon for each person\n",
    "weights_on_moon = dict(map(lambda item: (item[0], calculate_weight_on_moon(item[1])), WeightOnEarth.items()))\n",
    "\n",
    "# Print the weights on the Moon\n",
    "for name, weight_moon in weights_on_moon.items():\n",
    "    print(f\"{name}'s weight on the Moon: {weight_moon:.2f} kg\")\n"
   ]
  },
  {
   "cell_type": "markdown",
   "metadata": {},
   "source": [
    "# Control structures:"
   ]
  },
  {
   "cell_type": "code",
   "execution_count": null,
   "metadata": {},
   "outputs": [],
   "source": []
  },
  {
   "cell_type": "code",
   "execution_count": 4,
   "metadata": {},
   "outputs": [
    {
     "name": "stdout",
     "output_type": "stream",
     "text": [
      "Enter the value of N: 10\n",
      "The first 10 prime numbers are:\n",
      "[2, 3, 5, 7, 11, 13, 17, 19, 23, 29]\n"
     ]
    }
   ],
   "source": [
    "#1: write python program to find first N prime numbers\n",
    "\n",
    "def is_prime(num):\n",
    "    if num <= 1:\n",
    "        return False\n",
    "    elif num == 2:\n",
    "        return True\n",
    "    elif num % 2 == 0:\n",
    "        return False\n",
    "    else:\n",
    "        for i in range(3, int(num ** 0.5) + 1, 2):\n",
    "            if num % i == 0:\n",
    "                return False\n",
    "        return True\n",
    "\n",
    "def find_first_n_primes(n):\n",
    "    prime_list = []\n",
    "    num = 2\n",
    "    while len(prime_list) < n:\n",
    "        if is_prime(num):\n",
    "            prime_list.append(num)\n",
    "        num += 1\n",
    "    return prime_list\n",
    "\n",
    "N = int(input(\"Enter the value of N: \"))\n",
    "if N <= 0:\n",
    "    print(\"N should be a positive integer.\")\n",
    "else:\n",
    "    primes = find_first_n_primes(N)\n",
    "    print(f\"The first {N} prime numbers are:\")\n",
    "    print(primes)\n"
   ]
  },
  {
   "cell_type": "code",
   "execution_count": 5,
   "metadata": {},
   "outputs": [
    {
     "name": "stdout",
     "output_type": "stream",
     "text": [
      "Enter Basic Salary: 29500.33\n",
      "Enter HRA: 4500\n",
      "Enter TA: 1800\n",
      "Enter DA: 500\n",
      "Basic Salary: 29500.33\n",
      "HRA: 4500.00\n",
      "TA: 1800.00\n",
      "DA: 500.00\n",
      "Gross Salary: 36300.33\n",
      "Tax (10% of Gross Salary): 3630.03\n",
      "Net Salary: 32670.30\n"
     ]
    }
   ],
   "source": [
    "'''#2: Write the python code that calculates the salary of an employee. Prompt the user to enter the\n",
    "\n",
    "          Basic Salary, HRA, TA, and DA. Add these components to calculate the Gross Salary. Also, deduct 10% of salary from the\n",
    "          Gross Salary to be paid as tax and display gross minus tax as net salary.\n",
    "\n",
    "'''\n",
    "\n",
    "\n",
    "basic_salary = float(input(\"Enter Basic Salary: \"))\n",
    "hra = float(input(\"Enter HRA: \"))\n",
    "ta = float(input(\"Enter TA: \"))\n",
    "da = float(input(\"Enter DA: \"))\n",
    "\n",
    "\n",
    "gross_salary = basic_salary + hra + ta + da\n",
    "tax = 0.10 * gross_salary\n",
    "net_salary = gross_salary - tax\n",
    "\n",
    "\n",
    "print(f\"Basic Salary: {basic_salary:.2f}\")\n",
    "print(f\"HRA: {hra:.2f}\")\n",
    "print(f\"TA: {ta:.2f}\")\n",
    "print(f\"DA: {da:.2f}\")\n",
    "print(f\"Gross Salary: {gross_salary:.2f}\")\n",
    "print(f\"Tax (10% of Gross Salary): {tax:.2f}\")\n",
    "print(f\"Net Salary: {net_salary:.2f}\")\n"
   ]
  },
  {
   "cell_type": "code",
   "execution_count": 6,
   "metadata": {},
   "outputs": [
    {
     "name": "stdout",
     "output_type": "stream",
     "text": [
      "Enter the string to search for: date\n",
      "The string 'date' was found in the list.\n"
     ]
    }
   ],
   "source": [
    "# 3. Write a python program to search for a string in the given list.\n",
    "\n",
    "my_list = ['apple', 'banana', 'cherry', 'date', 'elderberry']\n",
    "\n",
    "search_string = input(\"Enter the string to search for: \")\n",
    "\n",
    "flag= False\n",
    "\n",
    "for i in my_list:\n",
    "    if search_string.lower() == i.lower():\n",
    "        flag= True\n",
    "        break\n",
    "\n",
    "\n",
    "if flag:\n",
    "    print(f\"The string '{search_string}' was found in the list.\")\n",
    "else:\n",
    "    print(f\"The string '{search_string}' was not found in the list.\")\n"
   ]
  },
  {
   "cell_type": "code",
   "execution_count": 7,
   "metadata": {},
   "outputs": [
    {
     "name": "stdout",
     "output_type": "stream",
     "text": [
      "Enter a string: Mphasis: The Next Applied\n",
      "Number of uppercase letters: 4\n",
      "Number of lowercase letters: 17\n"
     ]
    }
   ],
   "source": [
    "#4: Write a Python function that accepts a string and calculates the number of upper-case letters and lower-case letters.\n",
    "\n",
    "def count_upper_lower_case_letters(input_string):\n",
    "    upper_count = 0\n",
    "    lower_count = 0\n",
    "\n",
    "    for char in input_string:\n",
    "        if char.isupper():\n",
    "            upper_count += 1\n",
    "        elif char.islower():\n",
    "            lower_count += 1\n",
    "\n",
    "    return upper_count, lower_count\n",
    "\n",
    "input_string = input(\"Enter a string: \")\n",
    "\n",
    "upper, lower = count_upper_lower_case_letters(input_string)\n",
    "\n",
    "\n",
    "print(f\"Number of uppercase letters: {upper}\")\n",
    "print(f\"Number of lowercase letters: {lower}\")\n"
   ]
  },
  {
   "cell_type": "code",
   "execution_count": 8,
   "metadata": {},
   "outputs": [
    {
     "name": "stdout",
     "output_type": "stream",
     "text": [
      "Sum of even numbers between 12 and 37: 312\n",
      "Sum of odd numbers between 12 and 37: 325\n"
     ]
    }
   ],
   "source": [
    "#5. Write a program to display the sum of odd numbers and even numbers that fall between 12 and 37.\n",
    "\n",
    "even_sum = 0\n",
    "odd_sum = 0\n",
    "\n",
    "for num in range(12, 38):\n",
    "    if num % 2 == 0:  \n",
    "        even_sum += num\n",
    "    else:\n",
    "        odd_sum += num\n",
    "\n",
    "print(f\"Sum of even numbers between 12 and 37: {even_sum}\")\n",
    "print(f\"Sum of odd numbers between 12 and 37: {odd_sum}\")\n",
    "\n",
    "\n"
   ]
  },
  {
   "cell_type": "code",
   "execution_count": 10,
   "metadata": {},
   "outputs": [
    {
     "name": "stdout",
     "output_type": "stream",
     "text": [
      "Enter a number to print its table: 5\n",
      "Table of 5:\n",
      "5 x 1 = 5\n",
      "5 x 2 = 10\n",
      "5 x 3 = 15\n",
      "5 x 4 = 20\n",
      "5 x 5 = 25\n",
      "5 x 6 = 30\n",
      "5 x 7 = 35\n",
      "5 x 8 = 40\n",
      "5 x 9 = 45\n",
      "5 x 10 = 50\n"
     ]
    }
   ],
   "source": [
    "#6: Write a python Program to print the table of any number.\n",
    "\n",
    "num = int(input(\"Enter a number to print its table: \"))\n",
    "\n",
    "\n",
    "start = 1\n",
    "end = 10\n",
    "\n",
    "print(f\"Table of {num}:\")\n",
    "\n",
    "for i in range(start, end + 1):\n",
    "    result = num * i\n",
    "    print(f\"{num} x {i} = {result}\")\n"
   ]
  },
  {
   "cell_type": "code",
   "execution_count": 11,
   "metadata": {},
   "outputs": [
    {
     "name": "stdout",
     "output_type": "stream",
     "text": [
      "The sum of the first 10 prime numbers is: 129\n"
     ]
    }
   ],
   "source": [
    "#7. Write a Python program to sum the first 10 prime numbers.\n",
    "\n",
    "def is_prime(num):\n",
    "    if num <= 1:\n",
    "        return False\n",
    "    elif num == 2:\n",
    "        return True\n",
    "    elif num % 2 == 0:\n",
    "        return False\n",
    "    else:\n",
    "        for i in range(3, int(num ** 0.5) + 1, 2):\n",
    "            if num % i == 0:\n",
    "                return False\n",
    "        return True\n",
    "\n",
    "count = 0 \n",
    "num = 2    \n",
    "\n",
    "prime_sum = 0 \n",
    "\n",
    "while count < 10:\n",
    "    if is_prime(num):\n",
    "        prime_sum += num\n",
    "        count += 1\n",
    "    num += 1\n",
    "\n",
    "print(f\"The sum of the first 10 prime numbers is: {prime_sum}\")\n",
    "\n"
   ]
  },
  {
   "cell_type": "code",
   "execution_count": 13,
   "metadata": {},
   "outputs": [
    {
     "name": "stdout",
     "output_type": "stream",
     "text": [
      "Enter an arithmetic operation (+, -, *, /): /\n",
      "Enter the first number: 8\n",
      "Enter the second number: 3.5\n",
      "8.0 / 3.5 = 2.2857142857142856\n"
     ]
    }
   ],
   "source": [
    "#8. Write a python program to implement arithmetic operations using nested if statement.\n",
    "\n",
    "operation = input(\"Enter an arithmetic operation (+, -, *, /): \")\n",
    "\n",
    "num1 = float(input(\"Enter the first number: \"))\n",
    "num2 = float(input(\"Enter the second number: \"))\n",
    "\n",
    "\n",
    "if operation == '+':\n",
    "    result = num1 + num2\n",
    "    print(f\"{num1} + {num2} = {result}\")\n",
    "elif operation == '-':\n",
    "    result = num1 - num2\n",
    "    print(f\"{num1} - {num2} = {result}\")\n",
    "elif operation == '*':\n",
    "    result = num1 * num2\n",
    "    print(f\"{num1} * {num2} = {result}\")\n",
    "elif operation == '/':\n",
    "    if num2 == 0:\n",
    "        print(\"Division by zero is not allowed.\")\n",
    "    else:\n",
    "        result = num1 / num2\n",
    "        print(f\"{num1} / {num2} = {result}\")\n",
    "else:\n",
    "    print(\"Invalid operation. Please enter +, -, *, or /.\")\n"
   ]
  },
  {
   "cell_type": "code",
   "execution_count": 14,
   "metadata": {},
   "outputs": [
    {
     "name": "stdout",
     "output_type": "stream",
     "text": [
      "Enter temperature in Celsius: 37.5\n",
      "37.5 degrees Celsius is equal to 99.5 degrees Fahrenheit.\n"
     ]
    }
   ],
   "source": [
    "#9. Write a python program to take the temperature in Celsius and convert it to a Fahrenheit.\n",
    "celsius = float(input(\"Enter temperature in Celsius: \"))\n",
    "\n",
    "fahrenheit = (celsius * 9/5) + 32\n",
    "print(f\"{celsius} degrees Celsius is equal to {fahrenheit} degrees Fahrenheit.\")\n"
   ]
  },
  {
   "cell_type": "code",
   "execution_count": 15,
   "metadata": {},
   "outputs": [
    {
     "name": "stdout",
     "output_type": "stream",
     "text": [
      "Maximum number: 101\n",
      "Minimum number: 3\n"
     ]
    }
   ],
   "source": [
    "#10. Write a python program to find a maximum and minimum number in a list without using an inbuilt function.\n",
    "\n",
    "\n",
    "def find_max_min(numbers):\n",
    "    if not numbers:\n",
    "        return None, None  \n",
    "    max_num = min_num = numbers[0]  \n",
    "    for num in numbers:\n",
    "        if num > max_num:\n",
    "            max_num = num\n",
    "        if num < min_num:\n",
    "            min_num = num\n",
    "\n",
    "    return max_num, min_num\n",
    "\n",
    "\n",
    "numbers = [5, 12, 9, 3, 21, 7, 101]\n",
    "\n",
    "\n",
    "max_value, min_value = find_max_min(numbers)\n",
    "\n",
    "if max_value is not None and min_value is not None:\n",
    "    print(f\"Maximum number: {max_value}\")\n",
    "    print(f\"Minimum number: {min_value}\")\n",
    "else:\n",
    "    print(\"The list is empty.\")\n"
   ]
  },
  {
   "cell_type": "code",
   "execution_count": 16,
   "metadata": {},
   "outputs": [
    {
     "name": "stdout",
     "output_type": "stream",
     "text": [
      "The number of seconds in a 30-day month is: 2592000\n"
     ]
    }
   ],
   "source": [
    "'''#11: Write a program in python to print out the number of seconds in 30-day month 30 days, 24 hours in a day, 60 minutes per \n",
    "        day, 60 seconds in a minute.\n",
    "\n",
    "\n",
    "'''\n",
    "\n",
    "days_per_month = 30\n",
    "hours_per_day = 24\n",
    "minutes_per_hour = 60\n",
    "seconds_per_minute = 60\n",
    "\n",
    "total_seconds = days_per_month * hours_per_day * minutes_per_hour * seconds_per_minute\n",
    "print(f\"The number of seconds in a 30-day month is: {total_seconds}\")\n"
   ]
  },
  {
   "cell_type": "code",
   "execution_count": 17,
   "metadata": {},
   "outputs": [
    {
     "name": "stdout",
     "output_type": "stream",
     "text": [
      "The number of seconds in a year is approximately: 31536000\n"
     ]
    }
   ],
   "source": [
    "#12. Write a program in python to print out the number of seconds in a year.\n",
    "days_per_year = 365\n",
    "hours_per_day = 24\n",
    "minutes_per_hour = 60\n",
    "seconds_per_minute = 60\n",
    "\n",
    "seconds_in_a_year = days_per_year * hours_per_day * minutes_per_hour * seconds_per_minute\n",
    "\n",
    "print(f\"The number of seconds in a year is approximately: {seconds_in_a_year}\")\n"
   ]
  },
  {
   "cell_type": "code",
   "execution_count": 18,
   "metadata": {},
   "outputs": [
    {
     "name": "stdout",
     "output_type": "stream",
     "text": [
      "It will take approximately 2.76 hours to travel from London to Glasgow at 150 mph.\n"
     ]
    }
   ],
   "source": [
    "'''#13: A high-speed train can travel at an average speed of 150 mph, how long will it take a train travelling at this speed to \n",
    "       travel from London to Glasgow which is 414 miles away?\n",
    "'''\n",
    "distance_miles = 414\n",
    "speed_mph = 150\n",
    "\n",
    "time_hours = distance_miles / speed_mph\n",
    "print(f\"It will take approximately {time_hours:.2f} hours to travel from London to Glasgow at 150 mph.\")\n"
   ]
  },
  {
   "cell_type": "code",
   "execution_count": 19,
   "metadata": {},
   "outputs": [
    {
     "name": "stdout",
     "output_type": "stream",
     "text": [
      "Total hours spent in school from year 7 to year 11: 5760 hours\n"
     ]
    }
   ],
   "source": [
    "'''#14: Write a python program that defines a variable called days_in_each_school year and assign 192 to the variable.\n",
    "        The program should then print out the total hours that you spend in school from year 7 to year 11, if each day you spend 6 hours\n",
    "        in school days_in_each_school_year = 192\n",
    "\n",
    "'''\n",
    "\n",
    "days_in_each_school_year = 192\n",
    "school_years = range(7, 12)\n",
    "\n",
    "hours_per_day = 6\n",
    "total_hours_in_school = days_in_each_school_year * len(school_years) * hours_per_day\n",
    "\n",
    "print(f\"Total hours spent in school from year 7 to year 11: {total_hours_in_school} hours\")\n"
   ]
  },
  {
   "cell_type": "code",
   "execution_count": 20,
   "metadata": {},
   "outputs": [
    {
     "name": "stdout",
     "output_type": "stream",
     "text": [
      "Enter Ram's age: 18\n",
      "Enter Sam's age: 19\n",
      "Enter Khan's age: 23\n",
      "The eldest among Ram, Sam, and Khan is Khan.\n",
      "The youngest among Ram, Sam, and Khan is Ram.\n"
     ]
    }
   ],
   "source": [
    "#15:If the age of Ram,Sam and Khan are input through the keyboard,write a python program to determine the eldest and youngest of the three.\n",
    "\n",
    "\n",
    "ram_age = int(input(\"Enter Ram's age: \"))\n",
    "sam_age = int(input(\"Enter Sam's age: \"))\n",
    "khan_age = int(input(\"Enter Khan's age: \"))\n",
    "\n",
    "\n",
    "if ram_age > sam_age and ram_age > khan_age:\n",
    "    eldest = \"Ram\"\n",
    "elif sam_age > ram_age and sam_age > khan_age:\n",
    "    eldest = \"Sam\"\n",
    "else:\n",
    "    eldest = \"Khan\"\n",
    "\n",
    "if ram_age < sam_age and ram_age < khan_age:\n",
    "    youngest = \"Ram\"\n",
    "elif sam_age < ram_age and sam_age < khan_age:\n",
    "    youngest = \"Sam\"\n",
    "else:\n",
    "    youngest = \"Khan\"\n",
    "\n",
    "\n",
    "print(f\"The eldest among Ram, Sam, and Khan is {eldest}.\")\n",
    "print(f\"The youngest among Ram, Sam, and Khan is {youngest}.\")"
   ]
  },
  {
   "cell_type": "code",
   "execution_count": 21,
   "metadata": {},
   "outputs": [
    {
     "name": "stdout",
     "output_type": "stream",
     "text": [
      "Rotated list by 2 times without slicing: [4, 5, 1, 2, 3]\n"
     ]
    }
   ],
   "source": [
    "# 16. Write a python program to rotate a list by right n times with and without slicing technique.\n",
    "\n",
    "                                    #  --------------------without slicing-----------\n",
    "def rotate_right_without_slicing(arr, n):\n",
    "    if n <= 0:\n",
    "        return arr  \n",
    "\n",
    "    n = n % len(arr)  \n",
    "    for _ in range(n):\n",
    "        last_element = arr.pop()\n",
    "        arr.insert(0, last_element)\n",
    "\n",
    "    return arr\n",
    "\n",
    "\n",
    "my_list = [1, 2, 3, 4, 5]\n",
    "\n",
    "\n",
    "n = 2\n",
    "\n",
    "rotated_list = rotate_right_without_slicing(my_list, n)\n",
    "print(f\"Rotated list by {n} times without slicing: {rotated_list}\")\n",
    "\n",
    "\n",
    "\n"
   ]
  },
  {
   "cell_type": "code",
   "execution_count": 22,
   "metadata": {},
   "outputs": [
    {
     "name": "stdout",
     "output_type": "stream",
     "text": [
      "Rotated list by 2 times with slicing: [4, 5, 1, 2, 3]\n"
     ]
    }
   ],
   "source": [
    "                                         #  --------------------with slicing-----------\n",
    "def rotate_right_with_slicing(arr, n):\n",
    "    if n <= 0:\n",
    "        return arr\n",
    "\n",
    "    n = n % len(arr)  \n",
    "\n",
    "    rotated_list = arr[-n:] + arr[:-n]\n",
    "\n",
    "    return rotated_list\n",
    "\n",
    "my_list = [1, 2, 3, 4, 5]\n",
    "\n",
    "n = 2\n",
    "\n",
    "rotated_list = rotate_right_with_slicing(my_list, n)\n",
    "print(f\"Rotated list by {n} times with slicing: {rotated_list}\")"
   ]
  },
  {
   "cell_type": "code",
   "execution_count": null,
   "metadata": {},
   "outputs": [],
   "source": []
  },
  {
   "cell_type": "code",
   "execution_count": 1,
   "metadata": {},
   "outputs": [],
   "source": [
    "#17 Print pattern"
   ]
  },
  {
   "cell_type": "code",
   "execution_count": 20,
   "metadata": {},
   "outputs": [
    {
     "name": "stdout",
     "output_type": "stream",
     "text": [
      "5\n",
      "*\n",
      "\n",
      "**\n",
      "\n",
      "***\n",
      "\n",
      "****\n",
      "\n",
      "*****\n",
      "\n"
     ]
    }
   ],
   "source": [
    "n=int(input())\n",
    "m=n-1\n",
    "\n",
    "for i in range(1,n+1):\n",
    "    for j in range(1,i+1):\n",
    "        print('*',end=\"\")\n",
    "    print(\"\\n\")"
   ]
  },
  {
   "cell_type": "code",
   "execution_count": 23,
   "metadata": {},
   "outputs": [
    {
     "name": "stdout",
     "output_type": "stream",
     "text": [
      "p\n",
      "\n",
      "py\n",
      "\n",
      "pyt\n",
      "\n",
      "pyth\n",
      "\n",
      "pytho\n",
      "\n",
      "python\n",
      "\n"
     ]
    }
   ],
   "source": [
    "lst=['p','y','t','h','o','n']\n",
    "n=len(lst)\n",
    "\n",
    "for i in range(0,n):\n",
    "    for j in range(0,i+1):\n",
    "        print(lst[j],end=\"\")\n",
    "    print(\"\\n\")"
   ]
  },
  {
   "cell_type": "code",
   "execution_count": 12,
   "metadata": {},
   "outputs": [
    {
     "name": "stdout",
     "output_type": "stream",
     "text": [
      "7\n",
      " \n",
      " \n",
      " \n",
      " \n",
      " \n",
      " \n",
      "*\n",
      "\n",
      " \n",
      " \n",
      " \n",
      " \n",
      " \n",
      "**\n",
      "\n",
      " \n",
      " \n",
      " \n",
      " \n",
      "***\n",
      "\n",
      " \n",
      " \n",
      " \n",
      "****\n",
      "\n",
      " \n",
      " \n",
      "*****\n",
      "\n",
      " \n",
      "******\n",
      "\n",
      "*******\n",
      "\n"
     ]
    }
   ],
   "source": [
    "n=int(input())\n",
    "for i in range(1,n+1):\n",
    "    for j in range(1,n-i+1):\n",
    "        print(\" \")\n",
    "    for k in range(1,i+1):\n",
    "        print(\"*\",end='')\n",
    "        \n",
    "    print(\"\\n\") "
   ]
  },
  {
   "cell_type": "code",
   "execution_count": 17,
   "metadata": {},
   "outputs": [
    {
     "name": "stdout",
     "output_type": "stream",
     "text": [
      "7\n",
      "1  \n",
      "\n",
      "1  1  \n",
      "\n",
      "1  2  1  \n",
      "\n",
      "1  3  3  1  \n",
      "\n",
      "1  4  6  4  1  \n",
      "\n",
      "1  5  10  10  5  1  \n",
      "\n",
      "1  6  15  20  15  6  1  \n",
      "\n"
     ]
    }
   ],
   "source": [
    "n=int(input())\n",
    "coef=1;\n",
    "for i in range(0,n):\n",
    "    for j in range(0,i+1):\n",
    "        if j==0 or i==0:\n",
    "            coef=1\n",
    "        else:\n",
    "            coef=coef*(i-j+1)//j\n",
    "        print(coef,' ',end='')\n",
    "        \n",
    "    print(\"\\n\")    \n",
    "        "
   ]
  },
  {
   "cell_type": "code",
   "execution_count": null,
   "metadata": {},
   "outputs": [],
   "source": []
  }
 ],
 "metadata": {
  "kernelspec": {
   "display_name": "Python 3",
   "language": "python",
   "name": "python3"
  },
  "language_info": {
   "codemirror_mode": {
    "name": "ipython",
    "version": 3
   },
   "file_extension": ".py",
   "mimetype": "text/x-python",
   "name": "python",
   "nbconvert_exporter": "python",
   "pygments_lexer": "ipython3",
   "version": "3.7.6"
  }
 },
 "nbformat": 4,
 "nbformat_minor": 4
}
