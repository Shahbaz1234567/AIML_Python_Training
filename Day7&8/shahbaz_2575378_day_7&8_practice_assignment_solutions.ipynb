{
 "cells": [
  {
   "cell_type": "markdown",
   "metadata": {},
   "source": [
    "# Implementation of data Structures in pYthon"
   ]
  },
  {
   "cell_type": "code",
   "execution_count": 6,
   "metadata": {},
   "outputs": [
    {
     "name": "stdout",
     "output_type": "stream",
     "text": [
      "Enter # of elements to be inserted:\t6\n",
      "Enter the Element 1:7\n",
      "Enter the Element 2:8\n",
      "Enter the Element 3:9\n",
      "Enter the Element 4:3\n",
      "Enter the Element 5:6\n",
      "Enter the Element 6:2\n",
      "Enter the value to be searched:\t3\n",
      "Element 3 Found at Position 4\n",
      "[7, 8, 9, 3, 6, 2]\n"
     ]
    },
    {
     "data": {
      "text/plain": [
       "5"
      ]
     },
     "execution_count": 6,
     "metadata": {},
     "output_type": "execute_result"
    }
   ],
   "source": [
    "'''PS#1: Write a Python program to find a target values in a list using linear search with following steps: \n",
    "\n",
    "    a. Initialize the list to store the input elements.\n",
    "\n",
    "    b. Initialize found-False.\n",
    "\n",
    "    c. Enter the item to be searched (match item).\n",
    "\n",
    "    d. For each element in the list\n",
    "\n",
    "            1. if match item = value\n",
    "\n",
    "            return match item's position.\n",
    "\n",
    "    e. If the match item is not in the list, display an error message that the item is not found in the list.\n",
    "\n",
    "\n",
    "'''\n",
    "\n",
    "# Linear search\n",
    "def search(data, x):\n",
    " \n",
    "    for i in range(len(data)):\n",
    " \n",
    "        if data[i] == x:\n",
    "            return i\n",
    " \n",
    "    return -1\n",
    "\n",
    "\n",
    "\n",
    "data=[]\n",
    "n=int(input('Enter # of elements to be inserted:\\t'))\n",
    "\n",
    " \n",
    "\n",
    "for i in range(0,n):\n",
    "    x=int(input('Enter the Element %d:'%(i+1)))\n",
    "    data.append(x)\n",
    "\n",
    "e=int(input('Enter the value to be searched:\\t'))\n",
    "pos=0\n",
    "found=False\n",
    "\n",
    " \n",
    "\n",
    "while pos <n and not found:\n",
    "    if data[pos]==e:\n",
    "        found=True\n",
    "    else:\n",
    "        pos+=1\n",
    "\n",
    "if found:\n",
    "    print('Element %d Found at Position %d'%(e,pos+1))\n",
    "\n",
    "else:\n",
    "    print('Element %d not found in the list'%e)\n",
    "\n",
    "print(data)\n",
    "\n",
    "search(data,x)"
   ]
  },
  {
   "cell_type": "code",
   "execution_count": null,
   "metadata": {},
   "outputs": [],
   "source": []
  },
  {
   "cell_type": "code",
   "execution_count": 5,
   "metadata": {},
   "outputs": [
    {
     "name": "stdout",
     "output_type": "stream",
     "text": [
      "Enter # of elements to be inserted:\t6\n",
      "Enter the Element 1:7\n",
      "Enter the Element 2:8\n",
      "Enter the Element 3:9\n",
      "Enter the Element 4:12\n",
      "Enter the Element 5:15\n",
      "Enter the Element 6:30\n",
      "Enter the value to be searched:\t12\n",
      "Element 12 Found at Position 4\n",
      "[7, 8, 9, 12, 15, 30]\n"
     ]
    },
    {
     "data": {
      "text/plain": [
       "5"
      ]
     },
     "execution_count": 5,
     "metadata": {},
     "output_type": "execute_result"
    }
   ],
   "source": [
    "'''PS#2: Write a Python program to implement binary search to find the target values from the list: \n",
    "    a. Create a separate function to do binary search.\n",
    "\n",
    "    b. Get the number of inputs from the user.\n",
    "\n",
    "    c. Store the inputs individually in a list.\n",
    "\n",
    "    d. In binary search function at first sort the list in order to start the search from middle of the list.\n",
    "\n",
    "    e. Compare the middle element to right and left elements to search target element. f. If greater, move to right of list \n",
    "       or else move to another side of the list.\n",
    "\n",
    "    g. Print the result along with the position of the element.\n",
    "\n",
    "'''\n",
    "\n",
    "# binary search fucntion\n",
    "def binary_search(data, low, high, x):\n",
    " \n",
    "    if high >= low:\n",
    " \n",
    "        mid = (high + low) // 2\n",
    " \n",
    "        if data[mid] == x:\n",
    "            return mid\n",
    " \n",
    "        \n",
    "        elif data[mid] > x:\n",
    "            return binary_search(data, low, mid - 1, x)\n",
    " \n",
    "        else:\n",
    "            return binary_search(data, mid + 1, high, x)\n",
    " \n",
    "    else:\n",
    "        return -1\n",
    "\n",
    "\n",
    "\n",
    "data=[]\n",
    "n=int(input('Enter # of elements to be inserted:\\t'))\n",
    "for i in range(0,n):\n",
    "    x=int(input('Enter the Element %d:'%(i+1)))\n",
    "    data.append(x)\n",
    "    \n",
    "e=int(input('Enter the value to be searched:\\t'))\n",
    "first=0\n",
    "last=n-1\n",
    "found=False\n",
    "while(first<=last and not found):\n",
    "    mid=(first+last)//2\n",
    "    if data[mid]==e:\n",
    "        found=True\n",
    "        \n",
    "    else:\n",
    "        if e<data[mid]:\n",
    "            last=mid-1\n",
    "        else:\n",
    "            first=mid+1\n",
    "            \n",
    "if found:\n",
    "    print('Element %d Found at Position %d'%(e,mid+1))\n",
    "else:\n",
    "    print('Element %d is not found in the list'%(e))\n",
    "    \n",
    "print(data)\n",
    "\n",
    "binary_search(data, 0, len(data)-1, x)\n"
   ]
  },
  {
   "cell_type": "code",
   "execution_count": null,
   "metadata": {},
   "outputs": [],
   "source": []
  },
  {
   "cell_type": "code",
   "execution_count": 1,
   "metadata": {},
   "outputs": [
    {
     "name": "stdout",
     "output_type": "stream",
     "text": [
      "The unsorted list is: [10, 5, 8, 20, 2, 18, 3]\n",
      "The sorted new list is: [2, 3, 5, 8, 10, 18, 20]\n"
     ]
    }
   ],
   "source": [
    "'''PS#3: Write a Python program for sorting a list of elements using selection sort algorithm:\n",
    "\n",
    "        a. Assume two lists: Sorted list- Initially empty and Unsorted List-Given input list.\n",
    "\n",
    "        b. In the first iteration, find the smallest element in the unsorted list and place it in the sorted list.\n",
    "        \n",
    "        c. In the second iteration, find the smallest element in the unsorted list and place it in the correct position by \n",
    "           comparing with the element in the sorted list.\n",
    "           \n",
    "        d. In the third iteration, again find the smallest element in the unsorted list and place it in the correct position\n",
    "           by comparing with the elements in the sorted list.\n",
    "\n",
    "        e. This process continues till the unsorted list becomes empty.\n",
    "\n",
    "        f. Display the sorted list.\n",
    " '''       \n",
    "        \n",
    "import sys\n",
    "def selectSort(lst,n):\n",
    "    temp=[0]*n\n",
    "    for i in range(0,n):\n",
    "        min_index=0\n",
    "        for j in range(1,n):\n",
    "            if lst[j]<lst[min_index]:\n",
    "                min_index=j\n",
    "        temp[i]=lst[min_index]\n",
    "        lst[min_index]=sys.maxsize\n",
    "        \n",
    "    for i in range(0,n):\n",
    "        lst[i]=temp[i]\n",
    "        \n",
    "    #return lst;    \n",
    "   \n",
    "        \n",
    "lst= [10, 5, 8, 20, 2, 18,3]\n",
    "n=len(lst)\n",
    "print(\"The unsorted list is:\", lst)\n",
    "selectSort(lst,n) \n",
    "print(\"The sorted new list is:\", lst)\n",
    "\n",
    "\n"
   ]
  },
  {
   "cell_type": "code",
   "execution_count": null,
   "metadata": {},
   "outputs": [],
   "source": []
  },
  {
   "cell_type": "code",
   "execution_count": 3,
   "metadata": {},
   "outputs": [
    {
     "name": "stdout",
     "output_type": "stream",
     "text": [
      "Insertion Sort :\n",
      "Enter Number of Elements in the Array: 5\n",
      "Enter the Element 1:7\n",
      "Enter the Element 2:20\n",
      "Enter the Element 3:4\n",
      "Enter the Element 4:3\n",
      "Enter the Element 5:4\n",
      "Original Array :\n",
      "['7', '20', '4', '3', '4']\n",
      "Intermediate s :\n",
      "['7', 20, '4', '3', '4']\n",
      "[4, '7', 20, '3', '4']\n",
      "[3, 4, '7', 20, '4']\n",
      "[3, 4, 4, '7', 20]\n",
      "Sorted Array is: \n",
      "[3, 4, 4, '7', 20]\n"
     ]
    }
   ],
   "source": [
    "'''PS#4: Write a Python program for sorting a list of elements using insertion sort algorithm:\n",
    "\n",
    "         a. Assume two lists: Sorted list- Initially empty and Unsorted List-Given input list. \n",
    "         \n",
    "         b. In the first iteration, take the first element in the unsorted list and insert it in Sorted list.\n",
    "\n",
    "         c. In the second iteration, take the second element in the given list and compare with the element in the sorted \n",
    "           sub list and place it in the correct position.\n",
    "\n",
    "         d. In the third iteration, take the third element in the given list and compare with the elements in the sorted \n",
    "           sub list and place the elements in the correct position.\n",
    "\n",
    "         e. This process continues until the last element is inserted in the sorted sub list.\n",
    "\n",
    "         f. Display the sorted elements.\n",
    "\n",
    "'''\n",
    "\n",
    "data = []\n",
    "\n",
    "print('Insertion Sort :') \n",
    "n= int(input('Enter Number of Elements in the Array: '))\n",
    "for i in range(0, n):\n",
    "    x=input(\"Enter the Element %d:\" %(i+1))\n",
    "    data.append(x)\n",
    "\n",
    "print('Original Array :')\n",
    "print(data)\n",
    "print('Intermediate s :')\n",
    "\n",
    "for i in range(1,n):\n",
    "    temp=int(data[i])\n",
    "    j=i-1\n",
    "    while temp<int(data[j]) and j>=0:\n",
    "        data[j+1]=data[j]\n",
    "        j=j-1\n",
    "    data[j+1]=temp\n",
    "    print(data)\n",
    "\n",
    "print('Sorted Array is: ')\n",
    "print(data)\n"
   ]
  },
  {
   "cell_type": "code",
   "execution_count": null,
   "metadata": {},
   "outputs": [],
   "source": []
  },
  {
   "cell_type": "code",
   "execution_count": 2,
   "metadata": {},
   "outputs": [
    {
     "name": "stdout",
     "output_type": "stream",
     "text": [
      "Merge Sort:\n",
      "Enter Number of Elements in the Array: 7\n",
      "Enter the Element 1:8\n",
      "Enter the Element 2:7\n",
      "Enter the Element 3:9\n",
      "Enter the Element 4:3\n",
      "Enter the Element 5:2\n",
      "Enter the Element 6:5\n",
      "Enter the Element 7:2\n",
      "Original Array :\n",
      "['8', '7', '9', '3', '2', '5', '2']\n",
      "Intermediate s :\n",
      "Spliting  ['8', '7', '9', '3', '2', '5', '2']\n",
      "Spliting  ['8', '7', '9']\n",
      "Spliting  ['8']\n",
      "Spliting  ['7', '9']\n",
      "Spliting  ['7']\n",
      "Spliting  ['9']\n",
      "Merging ['7', '9']\n",
      "Merging ['7', '8', '9']\n",
      "Spliting  ['3', '2', '5', '2']\n",
      "Spliting  ['3', '2']\n",
      "Spliting  ['3']\n",
      "Spliting  ['2']\n",
      "Merging ['2', '3']\n",
      "Spliting  ['5', '2']\n",
      "Spliting  ['5']\n",
      "Spliting  ['2']\n",
      "Merging ['2', '5']\n",
      "Merging ['2', '2', '3', '5']\n",
      "Merging ['2', '2', '3', '5', '7', '8', '9']\n",
      "Sorted Array is: \n",
      "['2', '2', '3', '5', '7', '8', '9']\n"
     ]
    }
   ],
   "source": [
    "'''Ps#5: Write a Python program that performs merge sort on a list of numbers:\n",
    "\n",
    "    a. Divide: If the given array has zero or one element, return.\n",
    "\n",
    "          i. Otherwise\n",
    "\n",
    "          ii. Divide the input list in to two halves each containing half of the elements. i.e. left half and right half.\n",
    "\n",
    "    b. Conquer: Recursively sort the two lists (left half and right half).\n",
    "\n",
    "                    a. Call the merge sort on left half.\n",
    "\n",
    "                    b. Call the merge sort on right half.\n",
    "\n",
    "    c. Combine: Combine the elements back in the input list by merging the two sorted lists into a sorted sequence.\n",
    "\n",
    "'''\n",
    "def mergesort(list1):\n",
    "    print(\"Spliting \",list1)\n",
    "    if len(list1)>1:\n",
    "        mid=len(list1)//2\n",
    "        lefthalf=list1[:mid]\n",
    "        righthalf=list1[mid:]\n",
    "        mergesort(lefthalf)\n",
    "        mergesort(righthalf)\n",
    "        \n",
    "        i=0 \n",
    "        j=0 \n",
    "        k=0\n",
    "        while i<len(lefthalf) and j<len(righthalf):\n",
    "            if int(lefthalf[i])<int(righthalf[j]):\n",
    "                list1[k]=lefthalf[i]\n",
    "                i=i+1\n",
    "            else:\n",
    "                list1[k]=righthalf[j]\n",
    "                j=j+1\n",
    "            k=k+1\n",
    "        while i<len(lefthalf):\n",
    "            list1[k]=lefthalf[i]\n",
    "            i=i+1\n",
    "            k=k+1\n",
    "        while j<len(righthalf):\n",
    "            list1[k]=righthalf[j]\n",
    "            j=j+1\n",
    "            k=k+1\n",
    "        print(\"Merging\",list1)\n",
    "list1=[]\n",
    "print('Merge Sort:')\n",
    "n= int(input('Enter Number of Elements in the Array: '))\n",
    "for i in range(0, n):\n",
    "    x=input(\"Enter the Element %d:\" %(i+1))\n",
    "    list1.append(x)\n",
    "\n",
    "print('Original Array :')\n",
    "print(list1)\n",
    "print('Intermediate s :')\n",
    "mergesort(list1)\n",
    "\n",
    "print('Sorted Array is: ')\n",
    "print(list1)"
   ]
  },
  {
   "cell_type": "code",
   "execution_count": null,
   "metadata": {},
   "outputs": [],
   "source": []
  },
  {
   "cell_type": "code",
   "execution_count": null,
   "metadata": {},
   "outputs": [],
   "source": []
  },
  {
   "cell_type": "code",
   "execution_count": 230,
   "metadata": {},
   "outputs": [],
   "source": [
    "'''PS#6: Write a Python script to perform the following operations on a singly linked list \n",
    "    a. Create a list\n",
    "\n",
    "    b. Find the smallest element from the list\n",
    "\n",
    "    c. Insert an element if it is not a duplicate element\n",
    "\n",
    "    d. Display the elements in reverse order\n",
    "\n",
    "\n",
    "'''\n",
    "import sys\n",
    "\n",
    "class Node:\n",
    "    def __init__(self,dataval=None,nextval=None):\n",
    "        self.dataval=dataval\n",
    "        self.nextval=nextval\n",
    "        \n",
    "    def __repr__(self):\n",
    "        return repr(self.dataval)\n",
    "        \n",
    "class LinkedList:\n",
    "    def __init__(self):\n",
    "        self.head=None\n",
    "\n",
    "    def __repr__(self):\n",
    "        nodes=[]\n",
    "        curr=self.head\n",
    "        \n",
    "        while curr:\n",
    "            nodes.append(repr(curr))\n",
    "            \n",
    "            curr=curr.nextval\n",
    "            \n",
    "        return '['+'---->'.join(nodes)+']'\n",
    "    \n",
    "    def prepend(self,dataval):\n",
    "        self.head=Node(dataval=dataval,nextval=self.head)\n",
    "        print(self.head)\n",
    "    \n",
    "    def append(self,dataval):\n",
    "        if not self.head:\n",
    "            self.head=Node(dataval=dataval)\n",
    "            return \n",
    "        curr=self.head\n",
    "        while curr.nextval:       ###\n",
    "            curr=curr.nextval\n",
    "        curr.nextval=Node(dataval=dataval)\n",
    "\n",
    "\n",
    "    def reverse(self):\n",
    "        curr=self.head\n",
    "        prev_node=None\n",
    "\n",
    "        while curr:\n",
    "            nextval=curr.nextval\n",
    "            curr.nextval=prev_node\n",
    "            prev_node=curr\n",
    "            curr=nextval\n",
    "        self.head=prev_node\n",
    "        \n",
    "        \n",
    "    def smallestElement(self,min):\n",
    "        curr=self.head\n",
    "        min=sys.maxsize  # OR, you can store large value in min.     eg: min=32767\n",
    "\n",
    "        while curr!=None:\n",
    "            if (min>curr.dataval):\n",
    "                min = curr.dataval \n",
    "            curr = curr.nextval\n",
    "        return min\n",
    "    \n",
    "    \n",
    "    def insert_if_not_duplicate(self, dataval):\n",
    "        if not self.head:\n",
    "            self.head = Node(dataval)\n",
    "            return\n",
    "\n",
    "        current = self.head\n",
    "\n",
    "        while current:\n",
    "            if current.dataval == dataval:\n",
    "                return  # Data already exists, do not insert\n",
    "\n",
    "            if not current.nextval:\n",
    "                current.nextval = Node(dataval)\n",
    "                return\n",
    "\n",
    "            current = current.nextval\n",
    "            "
   ]
  },
  {
   "cell_type": "code",
   "execution_count": 236,
   "metadata": {},
   "outputs": [
    {
     "data": {
      "text/plain": [
       "[]"
      ]
     },
     "execution_count": 236,
     "metadata": {},
     "output_type": "execute_result"
    }
   ],
   "source": [
    "Li=LinkedList()\n",
    "Li"
   ]
  },
  {
   "cell_type": "code",
   "execution_count": 237,
   "metadata": {},
   "outputs": [],
   "source": [
    "Li.append(34)\n",
    "Li.append(120)\n",
    "Li.append(12)\n",
    "Li.append(10)\n",
    "Li.append(5)"
   ]
  },
  {
   "cell_type": "code",
   "execution_count": 238,
   "metadata": {},
   "outputs": [
    {
     "name": "stdout",
     "output_type": "stream",
     "text": [
      "[34---->120---->12---->10---->5]\n"
     ]
    }
   ],
   "source": [
    "print(Li)"
   ]
  },
  {
   "cell_type": "code",
   "execution_count": 239,
   "metadata": {},
   "outputs": [
    {
     "name": "stdout",
     "output_type": "stream",
     "text": [
      "[5---->10---->12---->120---->34]\n"
     ]
    }
   ],
   "source": [
    "Li.reverse()\n",
    "print(Li)"
   ]
  },
  {
   "cell_type": "code",
   "execution_count": 240,
   "metadata": {},
   "outputs": [
    {
     "data": {
      "text/plain": [
       "5"
      ]
     },
     "execution_count": 240,
     "metadata": {},
     "output_type": "execute_result"
    }
   ],
   "source": [
    "Li.smallestElement(min)"
   ]
  },
  {
   "cell_type": "code",
   "execution_count": 243,
   "metadata": {},
   "outputs": [],
   "source": [
    "Li.insert_if_not_duplicate(120)"
   ]
  },
  {
   "cell_type": "code",
   "execution_count": 245,
   "metadata": {},
   "outputs": [
    {
     "name": "stdout",
     "output_type": "stream",
     "text": [
      "[5---->10---->12---->120---->34]\n"
     ]
    }
   ],
   "source": [
    "print(Li)"
   ]
  },
  {
   "cell_type": "code",
   "execution_count": 246,
   "metadata": {},
   "outputs": [
    {
     "name": "stdout",
     "output_type": "stream",
     "text": [
      "[5---->10---->12---->120---->34---->130]\n"
     ]
    }
   ],
   "source": [
    "Li.insert_if_not_duplicate(130)\n",
    "print(Li)"
   ]
  },
  {
   "cell_type": "code",
   "execution_count": null,
   "metadata": {},
   "outputs": [],
   "source": []
  },
  {
   "cell_type": "code",
   "execution_count": 222,
   "metadata": {},
   "outputs": [],
   "source": [
    "'''PS#7: Write a python program to implement the various operations for Stack ADT\n",
    "\n",
    "            i.) Push ii.) Pop iii.) Display.\n",
    "\n",
    "'''\n",
    "\n",
    "class Stack:\n",
    "\n",
    "    def __init__(self):\n",
    "        self.__stack=[]\n",
    "\n",
    "    def is_empty(self):\n",
    "        if len(self.__stack)==0:\n",
    "            return True\n",
    "        else:\n",
    "            return False\n",
    "\n",
    "    def size(self):\n",
    "        return len(self.__stack)\n",
    "\n",
    "    def push(self,item):\n",
    "        self.__stack.append(item)\n",
    "\n",
    "    def pop(self):\n",
    "        if len(self.__stack)==0:\n",
    "            raise Exception('Stack is empty!!- no need to call pop punction ')\n",
    "\n",
    "        else:\n",
    "            return self.__stack.pop()\n",
    "\n",
    "s=Stack()\n",
    "for i in range(1,15):\n",
    "    s.push(i)\n",
    "    "
   ]
  },
  {
   "cell_type": "code",
   "execution_count": 224,
   "metadata": {},
   "outputs": [
    {
     "name": "stdout",
     "output_type": "stream",
     "text": [
      "Pop:\t 14\n",
      "\n",
      "Size:\t 13\n",
      "Pop:\t 13\n",
      "\n",
      "Size:\t 12\n",
      "Pop:\t 12\n",
      "\n",
      "Size:\t 11\n",
      "Pop:\t 11\n",
      "\n",
      "Size:\t 10\n",
      "Pop:\t 10\n",
      "\n",
      "Size:\t 9\n",
      "Pop:\t 9\n",
      "\n",
      "Size:\t 8\n",
      "Pop:\t 8\n",
      "\n",
      "Size:\t 7\n",
      "Pop:\t 7\n",
      "\n",
      "Size:\t 6\n",
      "Pop:\t 6\n",
      "\n",
      "Size:\t 5\n",
      "Pop:\t 5\n",
      "\n",
      "Size:\t 4\n",
      "Pop:\t 4\n",
      "\n",
      "Size:\t 3\n",
      "Pop:\t 3\n",
      "\n",
      "Size:\t 2\n",
      "Pop:\t 2\n",
      "\n",
      "Size:\t 1\n",
      "Pop:\t 1\n",
      "\n",
      "Size:\t 0\n"
     ]
    }
   ],
   "source": [
    "while not s.is_empty():\n",
    "    print('Pop:\\t',s.pop())\n",
    "    print()\n",
    "    print('Size:\\t',s.size())"
   ]
  },
  {
   "cell_type": "code",
   "execution_count": null,
   "metadata": {},
   "outputs": [],
   "source": []
  },
  {
   "cell_type": "code",
   "execution_count": 225,
   "metadata": {},
   "outputs": [],
   "source": [
    "'''PS#8: Write a python script to implement the various operations for Queue ADT\n",
    "\n",
    "                i.) Insert ii.) Delete iii.) Display.\n",
    "\n",
    "'''\n",
    "\n",
    "class Queue():\n",
    "    def __init__(self):\n",
    "        self.__queue=[]\n",
    "\n",
    "    def is_empty(self):\n",
    "        if len(self.__queue)==0:\n",
    "            return True\n",
    "        else:\n",
    "            return False\n",
    "\n",
    "    def size(self):\n",
    "        return len(self.__queue)\n",
    "\n",
    "    def Enqueue(self,item):\n",
    "        self.__queue.append(item)\n",
    "        print(self.__queue)\n",
    "\n",
    "    def dequeue(self):\n",
    "        print(self.__queue)\n",
    "        return self.__queue.pop(0)\n",
    "\n",
    "q=Queue()"
   ]
  },
  {
   "cell_type": "code",
   "execution_count": 226,
   "metadata": {},
   "outputs": [
    {
     "name": "stdout",
     "output_type": "stream",
     "text": [
      "[2]\n"
     ]
    }
   ],
   "source": [
    "q.Enqueue(2)"
   ]
  },
  {
   "cell_type": "code",
   "execution_count": 227,
   "metadata": {},
   "outputs": [
    {
     "name": "stdout",
     "output_type": "stream",
     "text": [
      "[2, 3]\n",
      "[2, 3, 4]\n",
      "[2, 3, 4, 5]\n",
      "[2, 3, 4, 5, 6]\n",
      "[2, 3, 4, 5, 6, 7]\n",
      "[2, 3, 4, 5, 6, 7, 8]\n",
      "[2, 3, 4, 5, 6, 7, 8, 9]\n"
     ]
    }
   ],
   "source": [
    "for i in range(3,10):\n",
    "    q.Enqueue(i)"
   ]
  },
  {
   "cell_type": "code",
   "execution_count": 228,
   "metadata": {},
   "outputs": [
    {
     "name": "stdout",
     "output_type": "stream",
     "text": [
      "[2, 3, 4, 5, 6, 7, 8, 9]\n"
     ]
    },
    {
     "data": {
      "text/plain": [
       "2"
      ]
     },
     "execution_count": 228,
     "metadata": {},
     "output_type": "execute_result"
    }
   ],
   "source": [
    "q.dequeue()"
   ]
  },
  {
   "cell_type": "code",
   "execution_count": null,
   "metadata": {},
   "outputs": [],
   "source": []
  },
  {
   "cell_type": "code",
   "execution_count": 229,
   "metadata": {},
   "outputs": [
    {
     "name": "stdout",
     "output_type": "stream",
     "text": [
      "Postfix expression for a: ABC^/DE*+FG*-\n",
      "Postfix expression for b: B2^4A*C*-12/100^\n"
     ]
    }
   ],
   "source": [
    "'''PS#9: Write a program in python to convert the following infix expression to its postfix form using push and \n",
    "         pop operations of a Stack\n",
    "\n",
    "            a. A/B^C+D*E-F*G\n",
    "\n",
    "            b. (B^2-4*A*C)^(1/2)(100)\n",
    "\n",
    "'''\n",
    "def infix_to_postfix(expression):\n",
    "    def precedence(operator):\n",
    "        if operator in ('+', '-'):\n",
    "            return 1\n",
    "        if operator in ('*', '/'):\n",
    "            return 2\n",
    "        if operator == '^':\n",
    "            return 3\n",
    "        return 0  \n",
    "\n",
    "    postfix = []\n",
    "    stack = []\n",
    "\n",
    "    for char in expression:\n",
    "        if char.isalnum():  \n",
    "            postfix.append(char)\n",
    "        elif char == '(':  \n",
    "            stack.append(char)\n",
    "        elif char == ')':  \n",
    "            while stack and stack[-1] != '(':\n",
    "                postfix.append(stack.pop())\n",
    "            stack.pop()  \n",
    "        else:  \n",
    "            while stack and precedence(char) <= precedence(stack[-1]):\n",
    "                postfix.append(stack.pop())\n",
    "            stack.append(char)\n",
    "\n",
    "    while stack:  \n",
    "        postfix.append(stack.pop())\n",
    "\n",
    "    return ''.join(postfix)\n",
    "\n",
    "infix_expression_a = \"A/B^C+D*E-F*G\"\n",
    "infix_expression_b = \"(B^2-4*A*C)^(1/2)(100)\"\n",
    "\n",
    "postfix_a = infix_to_postfix(infix_expression_a)\n",
    "postfix_b = infix_to_postfix(infix_expression_b)\n",
    "\n",
    "print(\"Postfix expression for a:\", postfix_a)\n",
    "print(\"Postfix expression for b:\", postfix_b)\n",
    "\n"
   ]
  },
  {
   "cell_type": "code",
   "execution_count": null,
   "metadata": {},
   "outputs": [],
   "source": []
  }
 ],
 "metadata": {
  "kernelspec": {
   "display_name": "Python 3",
   "language": "python",
   "name": "python3"
  },
  "language_info": {
   "codemirror_mode": {
    "name": "ipython",
    "version": 3
   },
   "file_extension": ".py",
   "mimetype": "text/x-python",
   "name": "python",
   "nbconvert_exporter": "python",
   "pygments_lexer": "ipython3",
   "version": "3.7.6"
  }
 },
 "nbformat": 4,
 "nbformat_minor": 4
}
