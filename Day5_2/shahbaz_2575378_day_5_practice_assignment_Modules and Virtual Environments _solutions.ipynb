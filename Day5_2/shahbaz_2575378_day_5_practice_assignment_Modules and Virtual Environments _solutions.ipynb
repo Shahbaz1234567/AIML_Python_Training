{
 "cells": [
  {
   "cell_type": "markdown",
   "metadata": {},
   "source": [
    "# Modules and Virtual Environments"
   ]
  },
  {
   "cell_type": "code",
   "execution_count": 1,
   "metadata": {},
   "outputs": [],
   "source": [
    "''' PS#1: \n",
    "\n",
    "'''\n",
    "\n",
    "try:\n",
    "    \n",
    "    def fibo(n):\n",
    "        a,b=0,1\n",
    "        while a<n:\n",
    "            print(a,end=' ')\n",
    "            a,b=b,a+b\n",
    "            print()\n",
    " \n",
    "    def fibo_2(n):\n",
    "        result=[]\n",
    "        a,b=0,1\n",
    "        while a<n:\n",
    "            result.append(a)\n",
    "            a,b=b, a+b\n",
    "        return result \n",
    "    def fact(n):\n",
    "        if n==1:\n",
    "            return n\n",
    "        else:\n",
    "            return n*fact(n-1)\n",
    "        \n",
    "except FileNotFoundError:\n",
    "    print(f\"The file '{fname}' was not found.\")\n",
    "    print(sys.exc_info()[0].__name__)       \n",
    "    \n",
    "    \n",
    "        "
   ]
  },
  {
   "cell_type": "code",
   "execution_count": 2,
   "metadata": {},
   "outputs": [],
   "source": [
    "from module1 import fibo,fibo_2,fact"
   ]
  },
  {
   "cell_type": "code",
   "execution_count": 4,
   "metadata": {},
   "outputs": [
    {
     "data": {
      "text/plain": [
       "5040"
      ]
     },
     "execution_count": 4,
     "metadata": {},
     "output_type": "execute_result"
    }
   ],
   "source": [
    "fact(7)"
   ]
  },
  {
   "cell_type": "code",
   "execution_count": 5,
   "metadata": {},
   "outputs": [
    {
     "name": "stdout",
     "output_type": "stream",
     "text": [
      "0 \n",
      "1 \n",
      "1 \n",
      "2 \n",
      "3 \n",
      "5 \n",
      "8 \n"
     ]
    }
   ],
   "source": [
    "fibo(10)"
   ]
  },
  {
   "cell_type": "code",
   "execution_count": 6,
   "metadata": {},
   "outputs": [
    {
     "data": {
      "text/plain": [
       "[0, 1, 1, 2]"
      ]
     },
     "execution_count": 6,
     "metadata": {},
     "output_type": "execute_result"
    }
   ],
   "source": [
    "fibo_2(3)"
   ]
  },
  {
   "cell_type": "code",
   "execution_count": null,
   "metadata": {},
   "outputs": [],
   "source": []
  }
 ],
 "metadata": {
  "kernelspec": {
   "display_name": "Python 3",
   "language": "python",
   "name": "python3"
  },
  "language_info": {
   "codemirror_mode": {
    "name": "ipython",
    "version": 3
   },
   "file_extension": ".py",
   "mimetype": "text/x-python",
   "name": "python",
   "nbconvert_exporter": "python",
   "pygments_lexer": "ipython3",
   "version": "3.7.6"
  }
 },
 "nbformat": 4,
 "nbformat_minor": 4
}
