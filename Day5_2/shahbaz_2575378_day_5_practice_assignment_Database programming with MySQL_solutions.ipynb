{
 "cells": [
  {
   "cell_type": "markdown",
   "metadata": {},
   "source": [
    "# Database programming with MySQL:"
   ]
  },
  {
   "cell_type": "code",
   "execution_count": 1,
   "metadata": {},
   "outputs": [],
   "source": [
    "''' PS#1:  Implement Inventory management in python with MySQL\n",
    "     a) Inventory management, a critical element of the supply chain, is the tracking of inventory from manufacturers to \n",
    "    warehouse and from these facilities to a point of sale. The goal of inventory management is to have the right products in \n",
    "    the right place at the right time.\n",
    "    b) The required database is inventory, and the requird Tables are Purchase,Sale and Inventory.\n",
    "    c) Note: Apply your thoughts to demonstrate the DB Operation in python. \n",
    "    \n",
    "    \n",
    "    '''\n",
    "import mysql.connector\n",
    "\n",
    "conn=mysql.connector.connect(user='root', password='root123',\n",
    "                            host='127.0.0.1',\n",
    "                            database='inventory')\n",
    "curs=conn.cursor()\n",
    "\n",
    "#----------------------------------------------------  Purchase table -------------------\n",
    "purchase_table='''\n",
    "create table purchase(id INT AUTO_INCREMENT PRIMARY KEY,\n",
    "                product_name VARCHAR(255),\n",
    "                quantity INT,\n",
    "                purchase_date DATE)\n",
    "       \n",
    "\n",
    "'''\n",
    "\n",
    "curs.execute(purchase_table)\n",
    "#conn.commit()"
   ]
  },
  {
   "cell_type": "code",
   "execution_count": 6,
   "metadata": {},
   "outputs": [],
   "source": [
    "curs.execute('insert into purchase(product_name,quantity,purchase_date) values(\"Nycil Powder\",20,\"2023-09-15\")')\n",
    "curs.execute('insert into purchase(product_name,quantity,purchase_date) values(\"Coconut oil\",20,\"2023-09-15\")')\n",
    "conn.commit()"
   ]
  },
  {
   "cell_type": "code",
   "execution_count": 7,
   "metadata": {},
   "outputs": [
    {
     "name": "stdout",
     "output_type": "stream",
     "text": [
      "(1, 'Nycil Powder', 20, datetime.date(2023, 9, 15))\n",
      "(2, 'Nycil Powder', 20, datetime.date(2023, 9, 15))\n",
      "(3, 'Coconut oil', 20, datetime.date(2023, 9, 15))\n"
     ]
    }
   ],
   "source": [
    "curs.execute(\"select * from purchase\")\n",
    "result=curs.fetchall()\n",
    "for x in result:\n",
    "    print(x)"
   ]
  },
  {
   "cell_type": "code",
   "execution_count": null,
   "metadata": {},
   "outputs": [],
   "source": []
  },
  {
   "cell_type": "code",
   "execution_count": 8,
   "metadata": {},
   "outputs": [],
   "source": [
    "#----------------------------------------------------  Sell table -------------------\n",
    "sell_table='''\n",
    "create table sells(id INT AUTO_INCREMENT PRIMARY KEY,\n",
    "                product_name VARCHAR(255),\n",
    "                quantity INT,\n",
    "                sale_date DATE)\n",
    "       \n",
    "\n",
    "'''\n",
    "\n",
    "curs.execute(sell_table)\n",
    "#conn.commit()"
   ]
  },
  {
   "cell_type": "code",
   "execution_count": 10,
   "metadata": {},
   "outputs": [],
   "source": [
    "curs.execute('insert into sells(product_name,quantity,sale_date) values(\"Nycil Powder\",2,\"2023-09-15\")')\n",
    "conn.commit()"
   ]
  },
  {
   "cell_type": "code",
   "execution_count": 11,
   "metadata": {},
   "outputs": [
    {
     "name": "stdout",
     "output_type": "stream",
     "text": [
      "(1, 'Nycil Powder', 2, datetime.date(2023, 9, 15))\n"
     ]
    }
   ],
   "source": [
    "curs.execute(\"select * from sells\")\n",
    "result=curs.fetchall()\n",
    "for x in result:\n",
    "    print(x)"
   ]
  },
  {
   "cell_type": "code",
   "execution_count": 12,
   "metadata": {},
   "outputs": [],
   "source": [
    "#----------------------------------------------------  Inventory table -------------------\n",
    "Inventory_table='''\n",
    "create table Inventory(id INT AUTO_INCREMENT PRIMARY KEY,\n",
    "                product_name VARCHAR(255),\n",
    "                quantity INT)\n",
    "       \n",
    "\n",
    "'''\n",
    "\n",
    "curs.execute(Inventory_table)\n",
    "#conn.commit()"
   ]
  },
  {
   "cell_type": "code",
   "execution_count": 13,
   "metadata": {},
   "outputs": [],
   "source": [
    "curs.execute('insert into Inventory(product_name,quantity) values(\"Coconut oil\",18)')\n",
    "\n",
    "conn.commit()"
   ]
  },
  {
   "cell_type": "code",
   "execution_count": 14,
   "metadata": {},
   "outputs": [
    {
     "name": "stdout",
     "output_type": "stream",
     "text": [
      "(1, 'Coconut oil', 18)\n"
     ]
    }
   ],
   "source": [
    "curs.execute(\"select * from Inventory\")\n",
    "result=curs.fetchall()\n",
    "for x in result:\n",
    "    print(x)"
   ]
  },
  {
   "cell_type": "code",
   "execution_count": null,
   "metadata": {},
   "outputs": [],
   "source": []
  },
  {
   "cell_type": "code",
   "execution_count": null,
   "metadata": {},
   "outputs": [],
   "source": []
  },
  {
   "cell_type": "code",
   "execution_count": 8,
   "metadata": {},
   "outputs": [],
   "source": [
    "'''PS#2: Customer Order Processing Scenario:  you are building a customer order processing system for an e-commerce company. \n",
    "The system needs to interact with a mysql database to store customer orders,products, and order details.\n",
    "  1.Design a mysql database schema for the order processing system, including tables for customer,products and orders.\n",
    "  2. write a python program that connects the database and allow customer to place new orders.\n",
    "  3. Impelement a features that calculates the total cost of an order and updates product quantities in the database.\n",
    "  4. How would you handle cases where a product is no longer available when a customer palce an order ?\n",
    "  5. Develop a function to generate order reports for the company's finance department.\n",
    "\n",
    "'''\n",
    "import mysql.connector\n",
    "\n",
    "conn=mysql.connector.connect(user='root', password='root123',\n",
    "                            host='127.0.0.1',\n",
    "                            database='ecom')\n",
    "curs=conn.cursor()\n",
    "\n"
   ]
  },
  {
   "cell_type": "code",
   "execution_count": 17,
   "metadata": {},
   "outputs": [],
   "source": [
    "'''\n",
    "Customers Table:\n",
    "\n",
    "customer_id (Primary Key)\n",
    "customer_name\n",
    "customer_email\n",
    "customer_address\n",
    "'''\n",
    "cust_table='''\n",
    "create table Customers(customer_id int auto_increment Primary Key,customer_name varchar(40),customer_email varchar(20),customer_address varchar(50))\n",
    "       \n",
    "'''\n",
    "\n",
    "curs.execute(cust_table)\n"
   ]
  },
  {
   "cell_type": "code",
   "execution_count": 18,
   "metadata": {},
   "outputs": [],
   "source": [
    "curs.execute('insert into Customers(customer_name,customer_email,customer_address) values(\"Raj\",\"abc123@gmail.com\",\"Pune\")')\n",
    "curs.execute('insert into Customers(customer_name,customer_email,customer_address) values(\"Raja\",\"abc1234@gmail.com\",\"Pune\")')\n",
    "\n",
    "conn.commit()"
   ]
  },
  {
   "cell_type": "code",
   "execution_count": 19,
   "metadata": {},
   "outputs": [
    {
     "name": "stdout",
     "output_type": "stream",
     "text": [
      "(1, 'Raj', 'abc123@gmail.com', 'Pune')\n",
      "(2, 'Raja', 'abc1234@gmail.com', 'Pune')\n"
     ]
    }
   ],
   "source": [
    "curs.execute(\"select * from Customers\")\n",
    "result=curs.fetchall()\n",
    "for x in result:\n",
    "    print(x)"
   ]
  },
  {
   "cell_type": "code",
   "execution_count": null,
   "metadata": {},
   "outputs": [],
   "source": [
    "'''\n",
    "Products Table:\n",
    "\n",
    "product_id (Primary Key)\n",
    "product_name\n",
    "product_price\n",
    "product_quantity\n",
    "'''\n",
    "\n",
    "product_table='''\n",
    "create table Products(product_id int auto_increment Primary Key,product_name varchar(40),product_price varchar(20), product_quantity int)\n",
    "       \n",
    "'''\n",
    "\n",
    "curs.execute(product_table)"
   ]
  },
  {
   "cell_type": "code",
   "execution_count": 7,
   "metadata": {},
   "outputs": [],
   "source": [
    "curs.execute('insert into Products(product_name,product_price,product_quantity) values(\"Dairy Milk\",50,10)')\n",
    "curs.execute('insert into Products(product_name,product_price,product_quantity) values(\"Milk\",60,10)')\n",
    "curs.execute('insert into Products(product_name,product_price,product_quantity) values(\"Cupcake\",70,10)')\n",
    "conn.commit()"
   ]
  },
  {
   "cell_type": "code",
   "execution_count": 9,
   "metadata": {},
   "outputs": [
    {
     "name": "stdout",
     "output_type": "stream",
     "text": [
      "(1, 'Dairy Milk', '50', 10)\n",
      "(2, 'Milk', '60', 10)\n",
      "(3, 'Cupcake', '70', 10)\n",
      "(4, 'Dairy Milk', '50', 10)\n",
      "(5, 'Milk', '60', 10)\n",
      "(6, 'Cupcake', '70', 10)\n"
     ]
    }
   ],
   "source": [
    "curs.execute('select *from Products')\n",
    "result=curs.fetchall()\n",
    "for x in result:\n",
    "    print(x)"
   ]
  },
  {
   "cell_type": "code",
   "execution_count": 11,
   "metadata": {},
   "outputs": [],
   "source": [
    "'''\n",
    "Orders Table:\n",
    "\n",
    "order_id (Primary Key)\n",
    "customer_id (Foreign Key referencing Customers)\n",
    "order_date\n",
    "'''\n",
    "order_table='''\n",
    " create table Orders(order_id int auto_increment primary key, customer_id int, foreign key(customer_id) references Customers(customer_id),order_date date)\n",
    "'''\n",
    "\n",
    "curs.execute(order_table)"
   ]
  },
  {
   "cell_type": "code",
   "execution_count": 12,
   "metadata": {},
   "outputs": [],
   "source": [
    "curs.execute('insert into Orders(customer_id,order_date) values(1, \"2023-09-15\")')\n",
    "curs.execute('insert into Orders(customer_id,order_date) values(2, \"2023-09-15\")')\n",
    "conn.commit()"
   ]
  },
  {
   "cell_type": "code",
   "execution_count": 13,
   "metadata": {},
   "outputs": [
    {
     "name": "stdout",
     "output_type": "stream",
     "text": [
      "(1, 1, datetime.date(2023, 9, 15))\n",
      "(2, 2, datetime.date(2023, 9, 15))\n"
     ]
    }
   ],
   "source": [
    "curs.execute('select *from Orders')\n",
    "result=curs.fetchall()\n",
    "for x in result:\n",
    "    print(x)"
   ]
  },
  {
   "cell_type": "code",
   "execution_count": null,
   "metadata": {},
   "outputs": [],
   "source": []
  },
  {
   "cell_type": "code",
   "execution_count": 14,
   "metadata": {},
   "outputs": [],
   "source": [
    "'''\n",
    "OrderDetails Table:\n",
    "\n",
    "order_detail_id (Primary Key)\n",
    "order_id (Foreign Key referencing Orders)\n",
    "product_id (Foreign Key referencing Products)\n",
    "quantity\n",
    "'''\n",
    "\n",
    "OrderDetails_table='''\n",
    "create table OrderDetails(order_detail_id int auto_increment primary key, order_id int, foreign key(order_id) references Orders(order_id), product_id int, foreign key(product_id) references Products(product_id),\n",
    "       quantity int)\n",
    "'''\n",
    "curs.execute(OrderDetails_table)"
   ]
  },
  {
   "cell_type": "code",
   "execution_count": 15,
   "metadata": {},
   "outputs": [],
   "source": [
    "curs.execute('insert into OrderDetails(order_id,product_id,quantity) values(1,2,20)')\n",
    "curs.execute('insert into OrderDetails(order_id,product_id,quantity) values(2,1,10)')\n",
    "conn.commit()"
   ]
  },
  {
   "cell_type": "code",
   "execution_count": 4,
   "metadata": {},
   "outputs": [
    {
     "name": "stdout",
     "output_type": "stream",
     "text": [
      "(1, 1, 2, 20)\n",
      "(2, 2, 1, 10)\n"
     ]
    }
   ],
   "source": [
    "curs.execute('select *from OrderDetails')\n",
    "result=curs.fetchall()\n",
    "for x in result:\n",
    "    print(x)"
   ]
  },
  {
   "cell_type": "code",
   "execution_count": null,
   "metadata": {},
   "outputs": [],
   "source": []
  },
  {
   "cell_type": "code",
   "execution_count": 5,
   "metadata": {},
   "outputs": [
    {
     "name": "stdout",
     "output_type": "stream",
     "text": [
      "Order placed successfully.\n"
     ]
    }
   ],
   "source": [
    "# Function to place an order\n",
    "def place_order(customer_id, product_id, quantity):\n",
    "    try:\n",
    "        # Check if the product is available in sufficient quantity\n",
    "        curs.execute(\"SELECT product_quantity FROM Products WHERE product_id = %s\", (product_id,))\n",
    "        available_quantity = curs.fetchone()[0]\n",
    "        \n",
    "        if available_quantity >= quantity:\n",
    "            # Calculate the total cost\n",
    "            curs.execute(\"SELECT product_price FROM Products WHERE product_id = %s\", (product_id,))\n",
    "            product_price = curs.fetchone()[0]\n",
    "            total_cost = product_price * quantity\n",
    "            \n",
    "            # Insert the order into the Orders table\n",
    "            curs.execute(\"INSERT INTO Orders (customer_id, order_date) VALUES (%s, NOW())\", (customer_id,))\n",
    "            order_id = curs.lastrowid\n",
    "            \n",
    "            # Insert the order details into the OrderDetails table\n",
    "            curs.execute(\"INSERT INTO OrderDetails (order_id, product_id, quantity) VALUES (%s, %s, %s)\",\n",
    "                           (order_id, product_id, quantity))\n",
    "            \n",
    "            # Update product quantity\n",
    "            new_quantity = available_quantity - quantity\n",
    "            curs.execute(\"UPDATE Products SET product_quantity = %s WHERE product_id = %s\", (new_quantity, product_id))\n",
    "            \n",
    "            conn.commit()\n",
    "            print(\"Order placed successfully.\")\n",
    "        else:\n",
    "            print(\"Insufficient product quantity.\")\n",
    "    except Exception as e:\n",
    "        print(f\"Error placing order: {str(e)}\")\n",
    "        conn.rollback()\n",
    "\n",
    "\n",
    "if __name__ == \"__main__\":\n",
    "    place_order(1, 2, 3)  # Example order: Customer ID 1 orders 3 units of Product ID 1\n",
    "\n",
    "# Close cursor and connection when done\n",
    "curs.close()\n",
    "conn.close()"
   ]
  },
  {
   "cell_type": "code",
   "execution_count": 9,
   "metadata": {},
   "outputs": [
    {
     "name": "stdout",
     "output_type": "stream",
     "text": [
      "Order ID: 2, Customer: Raja, Product: Dairy Milk, Quantity: 10, Total Cost: $50505050505050505050\n",
      "Order ID: 1, Customer: Raj, Product: Milk, Quantity: 20, Total Cost: $6060606060606060606060606060606060606060\n",
      "Order ID: 3, Customer: Raj, Product: Milk, Quantity: 3, Total Cost: $606060\n"
     ]
    }
   ],
   "source": [
    "def generate_order_report():\n",
    "    try:\n",
    "        curs.execute(\"\"\"\n",
    "            SELECT Orders.order_id, Customers.customer_name, Products.product_name, \n",
    "                   OrderDetails.quantity, Products.product_price\n",
    "            FROM Orders\n",
    "            JOIN Customers ON Orders.customer_id = Customers.customer_id\n",
    "            JOIN OrderDetails ON Orders.order_id = OrderDetails.order_id\n",
    "            JOIN Products ON OrderDetails.product_id = Products.product_id\n",
    "        \"\"\")\n",
    "        \n",
    "        orders = curs.fetchall()\n",
    "        \n",
    "        for order in orders:\n",
    "            order_id, customer_name, product_name, quantity, product_price = order\n",
    "            total_cost = quantity * product_price\n",
    "            print(f\"Order ID: {order_id}, Customer: {customer_name}, Product: {product_name}, Quantity: {quantity}, Total Cost: ${total_cost}\")\n",
    "    except Exception as e:\n",
    "        print(f\"Error generating order report: {str(e)}\")\n",
    "\n",
    "\n",
    "if __name__ == \"__main__\":\n",
    "    generate_order_report()\n"
   ]
  },
  {
   "cell_type": "code",
   "execution_count": null,
   "metadata": {},
   "outputs": [],
   "source": []
  },
  {
   "cell_type": "code",
   "execution_count": null,
   "metadata": {},
   "outputs": [],
   "source": []
  },
  {
   "cell_type": "code",
   "execution_count": null,
   "metadata": {},
   "outputs": [],
   "source": []
  },
  {
   "cell_type": "code",
   "execution_count": 29,
   "metadata": {},
   "outputs": [],
   "source": [
    "''' PS#3: You are tasked with developing a Python program that connects to a MySQL database, retrieves data from a table, performs some operations on the data, and updates the database with the modified data. Please write Python code to accomplish this task.\n",
    "\n",
    " Instructions:\n",
    "\n",
    "        1. Assume that you have a MySQL database server running with the following details:\n",
    "\n",
    "            i. Host: localhost\n",
    "\n",
    "            ii. Port: 3306\n",
    "\n",
    "            iii. Username: your username\n",
    "\n",
    "            iv. Password: your password\n",
    "\n",
    "            v. Database Name: your database\n",
    "\n",
    "            vi. Table Name: your table\n",
    "\n",
    "            vii. The table has the following columns: id (int), name (varchar), quantity (int).\n",
    "\n",
    "        2. Your Python program should:\n",
    "\n",
    "            i. Connect to the MySQL database.\n",
    "\n",
    "            ii. Retrieve all records from the your table table.\n",
    "\n",
    "            iii. Calculate the total quantity of all records retrieved.\n",
    "\n",
    "            iv. Update the quantity column of each record by doubling its value.\n",
    "\n",
    "            v. Commit the changes to the database.\n",
    "\n",
    "            vi. Close the database connection.\n",
    "\n",
    "        3. Handle any potential errors that may occur during the database connection and\n",
    "\n",
    "        data manipulation, such as connection failures or SQL errors.\n",
    "\n",
    "        4. Provide comments in your code to explain each step\n",
    "\n",
    "\n",
    "\n",
    "\n",
    "'''\n",
    "\n",
    "\n",
    "#----------------------------------------------Solutions -------------------------------\n",
    "# Establish a connection to the MySQL database\n",
    "import mysql.connector\n",
    "\n",
    "conn=mysql.connector.connect(user='root', password='root123',host='127.0.0.1',database='mla')\n",
    "curs=conn.cursor()"
   ]
  },
  {
   "cell_type": "code",
   "execution_count": 30,
   "metadata": {},
   "outputs": [
    {
     "data": {
      "text/plain": [
       "<mysql.connector.cursor_cext.CMySQLCursor at 0x207fc007748>"
      ]
     },
     "execution_count": 30,
     "metadata": {},
     "output_type": "execute_result"
    }
   ],
   "source": [
    "curs"
   ]
  },
  {
   "cell_type": "code",
   "execution_count": 31,
   "metadata": {},
   "outputs": [
    {
     "name": "stdout",
     "output_type": "stream",
     "text": [
      "Total quantity before update: 7\n",
      "All records updated successfully.\n"
     ]
    }
   ],
   "source": [
    "try:\n",
    "    \n",
    "    # Step 1: Retrieve all records from the table\n",
    "    curs.execute('select *from order_records')\n",
    "    records = curs.fetchall()\n",
    "    #for x in records:\n",
    "        #print(x)\n",
    "    # Step 2: Calculate the total quantity\n",
    "    total_quantity = sum(record[2] for record in records)\n",
    "\n",
    "    # Step 3: Update the quantity column by doubling its value for each record\n",
    "    update_query = \"UPDATE order_records SET quantity = quantity * 2 WHERE id = %s\"\n",
    "    for record in records:\n",
    "        curs.execute(update_query, (record[0],))\n",
    "    \n",
    "    conn.commit()\n",
    "\n",
    "    # Step 4: Close the database connection\n",
    "    curs.close()\n",
    "    conn.close()\n",
    "\n",
    "    print(f\"Total quantity before update: {total_quantity}\")\n",
    "    print(\"All records updated successfully.\")\n",
    "except mysql.connector.Error as error:\n",
    "    print(\"Error:\", error)\n",
    "finally:\n",
    "    if conn.is_connected():\n",
    "        conn.close()\n",
    "        "
   ]
  },
  {
   "cell_type": "code",
   "execution_count": null,
   "metadata": {},
   "outputs": [],
   "source": []
  },
  {
   "cell_type": "code",
   "execution_count": 45,
   "metadata": {},
   "outputs": [],
   "source": [
    "''' PS#4: You are developing an employee management system for a company. The database should store employee information, \n",
    "including name, salary, department, and hire date. Managers should be able to view and update employee details.\n",
    "\n",
    "                1. Design the database schema for the employee management system.\n",
    "\n",
    "                2. Write Python code to connect to the database and retrieve a list of employees in a specific department.\n",
    "\n",
    "                3. Implement a feature to update an employee's salary.\n",
    "\n",
    "'''\n",
    "import mysql.connector\n",
    "\n",
    "conn=mysql.connector.connect(user='root', password='root123',host='127.0.0.1',database='mla')\n",
    "curs=conn.cursor()\n",
    "\n"
   ]
  },
  {
   "cell_type": "code",
   "execution_count": 46,
   "metadata": {},
   "outputs": [
    {
     "data": {
      "text/plain": [
       "<mysql.connector.cursor_cext.CMySQLCursor at 0x207fc0239c8>"
      ]
     },
     "execution_count": 46,
     "metadata": {},
     "output_type": "execute_result"
    }
   ],
   "source": [
    "curs"
   ]
  },
  {
   "cell_type": "code",
   "execution_count": 47,
   "metadata": {},
   "outputs": [
    {
     "name": "stdout",
     "output_type": "stream",
     "text": [
      "Employees in the HR department:\n",
      "Name: Rahul, Salary: 10000.00, Hire Date: 2023-09-15\n",
      "Look at Further process:\n"
     ]
    }
   ],
   "source": [
    "# Department to search for\n",
    "target_department = \"HR\"\n",
    "\n",
    "try:\n",
    "\n",
    "    # Query to retrieve employees in a specific department\n",
    "    query = \"SELECT name, salary, hire_date FROM employees WHERE department = %s\"\n",
    "    curs.execute(query, (target_department,))\n",
    "\n",
    "    # Fetch all matching employees\n",
    "    employees = curs.fetchall()\n",
    "\n",
    "    if employees:\n",
    "        print(f\"Employees in the {target_department} department:\")\n",
    "        for employee in employees:\n",
    "            name, salary, hire_date = employee\n",
    "            print(f\"Name: {name}, Salary: {salary}, Hire Date: {hire_date}\")\n",
    "    else:\n",
    "        print(f\"No employees found in the {target_department} department.\")\n",
    "\n",
    "except mysql.connector.Error as error:\n",
    "    print(\"Error:\", error)\n",
    "finally:\n",
    "    print(\"Look at Further process:\")\n"
   ]
  },
  {
   "cell_type": "code",
   "execution_count": 48,
   "metadata": {},
   "outputs": [
    {
     "name": "stdout",
     "output_type": "stream",
     "text": [
      "Salary updated successfully for Rahul.\n"
     ]
    }
   ],
   "source": [
    "# Employee to update (replace with the desired employee's name)\n",
    "employee_to_update = \"Rahul\"\n",
    "\n",
    "# New salary value\n",
    "new_salary = 20000.00\n",
    "\n",
    "try:\n",
    "    # Update an employee's salary\n",
    "    update_query = \"UPDATE employees SET salary = %s WHERE name = %s\"\n",
    "    curs.execute(update_query, (new_salary, employee_to_update))\n",
    "    conn.commit()\n",
    "    print(f\"Salary updated successfully for {employee_to_update}.\")\n",
    "\n",
    "except mysql.connector.Error as error:\n",
    "    print(\"Error:\", error)\n",
    "finally:\n",
    "    if conn.is_connected():\n",
    "        curs.close()\n",
    "        conn.close()\n"
   ]
  },
  {
   "cell_type": "code",
   "execution_count": null,
   "metadata": {},
   "outputs": [],
   "source": []
  }
 ],
 "metadata": {
  "kernelspec": {
   "display_name": "Python 3",
   "language": "python",
   "name": "python3"
  },
  "language_info": {
   "codemirror_mode": {
    "name": "ipython",
    "version": 3
   },
   "file_extension": ".py",
   "mimetype": "text/x-python",
   "name": "python",
   "nbconvert_exporter": "python",
   "pygments_lexer": "ipython3",
   "version": "3.7.6"
  }
 },
 "nbformat": 4,
 "nbformat_minor": 4
}
