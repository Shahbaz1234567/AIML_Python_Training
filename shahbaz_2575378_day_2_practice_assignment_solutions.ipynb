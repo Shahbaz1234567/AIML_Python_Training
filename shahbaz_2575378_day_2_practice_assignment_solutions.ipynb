{
 "cells": [
  {
   "cell_type": "markdown",
   "metadata": {},
   "source": [
    "# Function"
   ]
  },
  {
   "cell_type": "code",
   "execution_count": 1,
   "metadata": {},
   "outputs": [
    {
     "name": "stdout",
     "output_type": "stream",
     "text": [
      "Even no is: [2, 4, 6, 8, 10, 12, 14, 16, 18] \n",
      "odd no. is: [1, 3, 5, 7, 9, 11, 13, 15, 17, 19]\n"
     ]
    }
   ],
   "source": [
    "#1. write a python program to  list even & odd number in a list\n",
    "def check():\n",
    "    even=[]\n",
    "    odd=[]\n",
    "    for i in range(1,20):\n",
    "        if i%2==0:\n",
    "            even.append(i)\n",
    "        else:\n",
    "            odd.append(i)\n",
    "    print(\"Even no is:\",even, \"\\nodd no. is:\",odd)\n",
    "check()    "
   ]
  },
  {
   "cell_type": "code",
   "execution_count": 2,
   "metadata": {},
   "outputs": [
    {
     "name": "stdout",
     "output_type": "stream",
     "text": [
      "119\n",
      "26\n",
      "39\n",
      "420\n",
      "513\n",
      "67\n",
      "76\n",
      "81\n",
      "3\n"
     ]
    }
   ],
   "source": [
    "#2. write a program that ask the user enter 8 integers(one at a time) and count how many have even of thse numbers--\n",
    "     #   This question is very long that's why I short the conclusion of it-----\n",
    "cnt=0; \n",
    "for i in range(1,9):\n",
    "    i=int(input(i))\n",
    "    if i%2==0:\n",
    "        cnt+=1\n",
    "print(cnt)        \n",
    "    "
   ]
  },
  {
   "cell_type": "code",
   "execution_count": 3,
   "metadata": {},
   "outputs": [
    {
     "name": "stdout",
     "output_type": "stream",
     "text": [
      "[52, 26, 13, 40, 20, 10, 5, 16, 8, 4, 2, 1]\n"
     ]
    }
   ],
   "source": [
    "#problem 3: write apython program where to take any positive integer n, if n is even n=n/2 and if n is odd the n=3n+1.\n",
    "                                    #repeat the process untill you reach 1\n",
    "\n",
    "\n",
    "def res(n):\n",
    "    res=[]\n",
    "    if n<=1:\n",
    "        return res\n",
    "    \n",
    "    while(n>1):\n",
    "        if n%2==0:\n",
    "            n//=2\n",
    "        else:\n",
    "            n=3*n+1\n",
    "        res.append(n)\n",
    "    return res    \n",
    "        \n",
    "print(res(17))        "
   ]
  },
  {
   "cell_type": "code",
   "execution_count": 4,
   "metadata": {},
   "outputs": [
    {
     "name": "stdout",
     "output_type": "stream",
     "text": [
      "57918\n"
     ]
    }
   ],
   "source": [
    "#4: write a python program to compute the sum of all the multiples of 3 or 5 below 500\n",
    "def mul():\n",
    "    sum=0\n",
    "    for i in range(1,500):\n",
    "        if i%3==0 or i%5==0:\n",
    "            sum+=i\n",
    "    print(sum)\n",
    "    \n",
    "mul()    \n",
    "            \n",
    "    "
   ]
  },
  {
   "cell_type": "code",
   "execution_count": 5,
   "metadata": {},
   "outputs": [
    {
     "name": "stdout",
     "output_type": "stream",
     "text": [
      "2 3 5 7 11 13 17 19 23 29 \n"
     ]
    }
   ],
   "source": [
    "#5. write a python program to find first 'n' prime numbers from a list of given numbers\n",
    "\n",
    "import math\n",
    "def first_n_Prime(n):\n",
    "    X = 0\n",
    "    i = 2\n",
    "    flag = False\n",
    "    while(X < n):\n",
    "        flag = True\n",
    "        for j in range(2, math.floor(math.sqrt(i)) + 1):\n",
    "            if (i%j == 0):\n",
    "                flag = False\n",
    "                break\n",
    "        if(flag):\n",
    "            print(i, end=\" \")\n",
    "            X+=1\n",
    "        i+=1\n",
    "    print()\n",
    "     \n",
    "n=10\n",
    "first_n_Prime(n)"
   ]
  },
  {
   "cell_type": "code",
   "execution_count": 6,
   "metadata": {},
   "outputs": [
    {
     "name": "stdout",
     "output_type": "stream",
     "text": [
      "[29, 37, 34, 5]\n",
      "[74, 97, 73, 14]\n",
      "[119, 157, 112, 23]\n"
     ]
    }
   ],
   "source": [
    "#6. write a python program to compute matrix multiplication\n",
    "A = [[1, 2, 3],\n",
    "    [4, 5, 6],     #3x3\n",
    "    [7, 8, 9]]\n",
    " \n",
    "\n",
    "B = [[5, 8, 1, 2],\n",
    "    [6, 7, 3, 0],    #3x4\n",
    "    [4, 5, 9, 1]]\n",
    " \n",
    "# result will be 3x4\n",
    "result = [[sum(a * b for a, b in zip(A_row, B_col))\n",
    "                        for B_col in zip(*B)]\n",
    "                                for A_row in A]\n",
    " \n",
    "for i in result:\n",
    "    print(i)"
   ]
  },
  {
   "cell_type": "code",
   "execution_count": 7,
   "metadata": {},
   "outputs": [
    {
     "name": "stdout",
     "output_type": "stream",
     "text": [
      "11\n"
     ]
    }
   ],
   "source": [
    "#7. write a python program to count no. of vowels in a string\n",
    "string = \"GeekforGeeks is a coding paltform\"\n",
    "vowels = \"aeiouAEIOU\"\n",
    "\n",
    "result = sum(string.count(vowel) for vowel in vowels)\n",
    "print(result)"
   ]
  },
  {
   "cell_type": "code",
   "execution_count": 8,
   "metadata": {},
   "outputs": [
    {
     "name": "stdout",
     "output_type": "stream",
     "text": [
      "120\n"
     ]
    }
   ],
   "source": [
    "#8. write a python function for finding factorial for the given number using recursive fun\n",
    "def fact(n):\n",
    "    if n==1:\n",
    "        return n\n",
    "    else:\n",
    "        return n*fact(n-1)\n",
    "ans=fact(5)\n",
    "print(ans)\n",
    "    "
   ]
  },
  {
   "cell_type": "code",
   "execution_count": 9,
   "metadata": {},
   "outputs": [
    {
     "name": "stdout",
     "output_type": "stream",
     "text": [
      "0\n",
      "1\n",
      "1\n",
      "2\n",
      "3\n",
      "5\n",
      "8\n",
      "13\n",
      "21\n",
      "34\n"
     ]
    }
   ],
   "source": [
    "#9 write a python function to dispaly fibonacci series using function\n",
    "def fib(n):\n",
    "    if n<=1:\n",
    "        return n\n",
    "    else:\n",
    "        return fib(n-1)+fib(n-2)\n",
    "n=10    \n",
    "#ans=fib(n)\n",
    "#print(ans)  ---- for sum of n fib series\n",
    "for i in range(n):\n",
    "    print(fib(i))\n",
    "    "
   ]
  },
  {
   "cell_type": "code",
   "execution_count": 10,
   "metadata": {},
   "outputs": [
    {
     "name": "stdout",
     "output_type": "stream",
     "text": [
      "321\n"
     ]
    }
   ],
   "source": [
    "#10. write a python program to display given integer in reverse order witout using in-built function\n",
    "rev=0\n",
    "def rev_int(n):\n",
    "    global rev\n",
    "    while(n>0):\n",
    "        rev=rev*10+n%10\n",
    "        n//=10\n",
    "    return rev\n",
    "\n",
    "ans=rev_int(123)\n",
    "print(ans)\n",
    "\n",
    "        "
   ]
  },
  {
   "cell_type": "code",
   "execution_count": 11,
   "metadata": {},
   "outputs": [
    {
     "name": "stdout",
     "output_type": "stream",
     "text": [
      "[200, 202, 204, 206, 208, 211, 213, 215, 217, 219, 220, 222, 224, 226, 228, 231, 233, 235, 237, 239, 240, 242, 244, 246, 248, 251, 253, 255, 257, 259, 260, 262, 264, 266, 268, 271, 273, 275, 277, 279, 280, 282, 284, 286, 288, 291, 293, 295, 297, 299]\n"
     ]
    }
   ],
   "source": [
    "#11. write a python program to display all integers within range 200-300 whose sum of digits is an even number.\n",
    "def sum(n):\n",
    "    ans=0\n",
    "    while(n>0):\n",
    "        res=n%10\n",
    "        ans+=res\n",
    "        n//=10\n",
    "    return ans\n",
    "\n",
    "ev=[]\n",
    "for i in range(200,300):\n",
    "    if(sum(i)%2==0):\n",
    "        ev.append(i)\n",
    "print(ev)        "
   ]
  },
  {
   "cell_type": "code",
   "execution_count": 12,
   "metadata": {},
   "outputs": [
    {
     "name": "stdout",
     "output_type": "stream",
     "text": [
      "no.of digits 3\n",
      "sum.of digits 6\n"
     ]
    }
   ],
   "source": [
    "#12. write a function to find number of digits and sum of digits for a given integer\n",
    "\n",
    "def sum(n):\n",
    "    ans=0\n",
    "    while(n>0):\n",
    "        res=n%10\n",
    "        ans+=res\n",
    "        n//=10\n",
    "    return ans\n",
    "\n",
    "def count(n):\n",
    "    cnt=0\n",
    "    while(n>0):\n",
    "        res=n%10\n",
    "        cnt+=1\n",
    "        n//=10\n",
    "    return cnt\n",
    "\n",
    "print(\"no.of digits\",count(123))\n",
    "print(\"sum.of digits\",sum(123))"
   ]
  },
  {
   "cell_type": "code",
   "execution_count": 13,
   "metadata": {},
   "outputs": [
    {
     "name": "stdout",
     "output_type": "stream",
     "text": [
      "True\n",
      "True\n"
     ]
    }
   ],
   "source": [
    "'''13. write a function called is_sorted that takes a list as a parameter and returns True if the list is sorted in ascending order\n",
    "and Flase otherwise and has_duplicates that takes a list and return True if there is any element that appears more than once.\n",
    "It should not modify original list '''\n",
    "def is_sorted(list):\n",
    "    for i in range(1,len(list)):\n",
    "        if list[i-1] > list[i]:\n",
    "            return False\n",
    "    return True\n",
    "\n",
    "def has_duplicates(list1):\n",
    "    for i in range(1,len(list1)):\n",
    "        if list1[i-1] == list1[i]:\n",
    "            return True\n",
    "    return False\n",
    "        \n",
    "list = [2, 3, 5, 7, 9]\n",
    "\n",
    "print(is_sorted(list))\n",
    "\n",
    "list1 = [2, 3, 5, 7, 7]\n",
    "\n",
    "print(has_duplicates(list1))\n",
    "\n",
    "\n"
   ]
  },
  {
   "cell_type": "code",
   "execution_count": 1,
   "metadata": {},
   "outputs": [
    {
     "name": "stdout",
     "output_type": "stream",
     "text": [
      "28\n"
     ]
    }
   ],
   "source": [
    "''' 14. write a function called nested_sum that takes a list of integers and adds up the elements from all the nested lists and \n",
    "  cumsum that takes a list of numbers and returns the cumulative sum;that is, a new list where the ith element is the sum of the\n",
    "  first i+1 elements from the original list.'''\n",
    "\n",
    "def nested_sum(l):\n",
    "    total = 0\n",
    "     \n",
    "    for j in range(len(l)):\n",
    "       \n",
    "        if type(l[j]) == list:      # this list is compare to list is persent in nested list or not\n",
    "            total+=nested_sum(l[j])\n",
    "        else:\n",
    "            total+=l[j]  \n",
    "             \n",
    "    return total\n",
    "             \n",
    "print(nested_sum([[1,2,3],[4,[5,6]],7]))"
   ]
  },
  {
   "cell_type": "code",
   "execution_count": null,
   "metadata": {},
   "outputs": [],
   "source": []
  },
  {
   "cell_type": "code",
   "execution_count": null,
   "metadata": {},
   "outputs": [],
   "source": []
  }
 ],
 "metadata": {
  "kernelspec": {
   "display_name": "Python 3",
   "language": "python",
   "name": "python3"
  },
  "language_info": {
   "codemirror_mode": {
    "name": "ipython",
    "version": 3
   },
   "file_extension": ".py",
   "mimetype": "text/x-python",
   "name": "python",
   "nbconvert_exporter": "python",
   "pygments_lexer": "ipython3",
   "version": "3.7.6"
  }
 },
 "nbformat": 4,
 "nbformat_minor": 4
}
